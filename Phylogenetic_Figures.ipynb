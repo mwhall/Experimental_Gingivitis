{
 "cells": [
  {
   "cell_type": "code",
   "execution_count": 1,
   "metadata": {},
   "outputs": [
    {
     "name": "stderr",
     "output_type": "stream",
     "text": [
      "ggtree v1.12.7  For help: https://guangchuangyu.github.io/software/ggtree\n",
      "\n",
      "If you use ggtree in published research, please cite:\n",
      "Guangchuang Yu, David Smith, Huachen Zhu, Yi Guan, Tommy Tsan-Yuk Lam. ggtree: an R package for visualization and annotation of phylogenetic trees with their covariates and other associated data. Methods in Ecology and Evolution 2017, 8(1):28-36, doi:10.1111/2041-210X.12628\n",
      "\n",
      "Attaching package: ‘ape’\n",
      "\n",
      "The following object is masked from ‘package:ggtree’:\n",
      "\n",
      "    rotate\n",
      "\n",
      "Loading required package: tensorA\n",
      "\n",
      "Attaching package: ‘tensorA’\n",
      "\n",
      "The following object is masked from ‘package:base’:\n",
      "\n",
      "    norm\n",
      "\n",
      "Loading required package: robustbase\n",
      "Loading required package: energy\n",
      "Loading required package: bayesm\n",
      "Welcome to compositions, a package for compositional data analysis.\n",
      "Find an intro with \"? compositions\"\n",
      "\n",
      "\n",
      "Attaching package: ‘compositions’\n",
      "\n",
      "The following object is masked from ‘package:ape’:\n",
      "\n",
      "    balance\n",
      "\n",
      "The following objects are masked from ‘package:stats’:\n",
      "\n",
      "    cor, cov, dist, var\n",
      "\n",
      "The following objects are masked from ‘package:base’:\n",
      "\n",
      "    %*%, scale, scale.default\n",
      "\n",
      "Loading required package: ggplot2\n",
      "\n",
      "Attaching package: ‘cowplot’\n",
      "\n",
      "The following object is masked from ‘package:ggplot2’:\n",
      "\n",
      "    ggsave\n",
      "\n",
      "The following object is masked from ‘package:ggtree’:\n",
      "\n",
      "    ggsave\n",
      "\n",
      "Loading required package: Matrix\n",
      "\n",
      "Attaching package: ‘Matrix’\n",
      "\n",
      "The following object is masked from ‘package:ggtree’:\n",
      "\n",
      "    expand\n",
      "\n",
      "\n",
      "Attaching package: ‘lmerTest’\n",
      "\n",
      "The following object is masked from ‘package:lme4’:\n",
      "\n",
      "    lmer\n",
      "\n",
      "The following object is masked from ‘package:robustbase’:\n",
      "\n",
      "    carrots\n",
      "\n",
      "The following object is masked from ‘package:stats’:\n",
      "\n",
      "    step\n",
      "\n"
     ]
    }
   ],
   "source": [
    "library(ggtree)\n",
    "library(ape)\n",
    "library(compositions)\n",
    "library(cowplot)\n",
    "library(ggplot2)\n",
    "library(reshape2)\n",
    "library(lme4)\n",
    "library(lmerTest)\n",
    "library(gridExtra)\n",
    "library(stringr)"
   ]
  },
  {
   "cell_type": "code",
   "execution_count": 2,
   "metadata": {},
   "outputs": [],
   "source": [
    "#Taken off the internet, used as a buffer in the plot grids\n",
    "blankPlot <- ggplot()+geom_blank(aes(1,1))+\n",
    "  theme(\n",
    "    plot.background = element_blank(), \n",
    "   panel.grid.major = element_blank(),\n",
    "   panel.grid.minor = element_blank(), \n",
    "   panel.border = element_blank(),\n",
    "   panel.background = element_blank(),\n",
    "   axis.title.x = element_blank(),\n",
    "   axis.title.y = element_blank(),\n",
    "   axis.text.x = element_blank(), \n",
    "   axis.text.y = element_blank(),\n",
    "   axis.ticks = element_blank(),\n",
    "   axis.line = element_blank()\n",
    "     )\n",
    "\n",
    "cut_taxonomy_string <- function(x, n) {\n",
    "    y<-str_split(str_trim(str_flatten(str_split_fixed(str_replace_all(x,\"[kpcofgs]__\", \"\"), \";\", n=7))), \" \")[[1]]\n",
    "    if (n >= length(y)) {\n",
    "        n = length(y)\n",
    "    }\n",
    "    if (n==7) {\n",
    "        str_flatten(y[c(n-1, n)], collapse = \" \")\n",
    "    } else {\n",
    "        y[n]\n",
    "    }\n",
    "}\n",
    "\n",
    "plot_asv_time_series <- function(asv, sample_site, p_val, adj_p_val) {\n",
    "    plot_subset <- asv_tab.clr.m %>% subset(asv_id == asv) %>% subset(type == sample_site)\n",
    "    p <- ggplot(plot_subset,\n",
    "                 aes(x=time,y=clr_rel_abund,group=type,shape=type,col=phase)) +\n",
    "                 scale_shape_manual(drop=FALSE, values=c(0,1,5,6)) +\n",
    "                 stat_summary(fun.y=mean, geom=\"line\", aes(group=interaction(1,type)))  + \n",
    "                 stat_summary(fun.y=mean, geom=\"point\", size=4, alpha=0.7) +\n",
    "                 stat_summary(fun.data = mean_se, geom = \"errorbar\", width=0.1) +\n",
    "                 scale_colour_brewer(palette = \"Dark2\") +\n",
    "                 ggtitle(cut_taxonomy_string(taxonomy[asv,\"Taxon\"],7)) + xlab(\"\") + ylab(\"\") +\n",
    "                 theme(legend.position=\"none\", \n",
    "                       axis.title.y=element_text(size=10),\n",
    "                       axis.title.x=element_text(size=10),\n",
    "                       plot.title=element_text(size=10))+\n",
    "                 annotate(\"text\",label=paste(sample_site, \": p=\", as.character(p_val), \n",
    "                                             \"\\nadj_p=\", as.character(adj_p_val),sep=\"\"),\n",
    "                          x=-Inf,y=Inf,hjust=-0.1, vjust=1.2, size=3)\n",
    "    p\n",
    "}\n",
    "\n",
    "plot_taxon_tree <- function(taxon_query, \n",
    "                            layout='circular', \n",
    "                            hilight_width=0.05, \n",
    "                            heatmap_offset=0.15, \n",
    "                            ts_scale_factor=1,\n",
    "                            exclude_taxon=NULL) {\n",
    "    targets <- grepl(taxon_query, taxonomy$Taxon)\n",
    "    taxon_ids <- rownames(taxonomy[targets,])\n",
    "    if (!is.null(exclude_taxon)) {\n",
    "        exc <- grepl(exclude_taxon, taxonomy[taxon_ids, 'Taxon'])\n",
    "        taxon_ids <- taxon_ids[!exc]\n",
    "    }\n",
    "    asv_subtree <- keep.tip(asv_tree, taxon_ids)\n",
    "\n",
    "    tree_taxon_ids <- asv_subtree$tip\n",
    "    tip_labels <- unlist(\n",
    "                      lapply(as.character(\n",
    "                             taxonomy[tree_taxon_ids, 'Taxon']\n",
    "                             ), \n",
    "                            function(x) cut_taxonomy_string(x, 7)\n",
    "                            )\n",
    "                         )\n",
    "    tip_labels <- data.frame(taxa=tree_taxon_ids, \n",
    "                             classification=tip_labels, \n",
    "                             subg_p_val=taxonomy[tree_taxon_ids, \"SubG_GLM_p\"],\n",
    "                             subg_slope=taxonomy[tree_taxon_ids, \"SubG_GLM_time_slope\"],\n",
    "                             supg_p_val=taxonomy[tree_taxon_ids, \"SupG_GLM_p\"],\n",
    "                             supg_slope=taxonomy[tree_taxon_ids, \"SupG_GLM_time_slope\"],\n",
    "                             sal_p_val=taxonomy[tree_taxon_ids, \"Sal_GLM_p\"],\n",
    "                             sal_slope=taxonomy[tree_taxon_ids, \"Sal_GLM_time_slope\"],\n",
    "                             T_p_val=taxonomy[tree_taxon_ids, \"T_GLM_p\"],\n",
    "                             T_slope=taxonomy[tree_taxon_ids, \"T_GLM_time_slope\"],\n",
    "                             subg_p_adj=taxonomy[tree_taxon_ids, \"SubG_GLM_p_adj\"],\n",
    "                             supg_p_adj=taxonomy[tree_taxon_ids, \"SupG_GLM_p_adj\"],\n",
    "                             sal_p_adj=taxonomy[tree_taxon_ids, \"Sal_GLM_p_adj\"],\n",
    "                             T_p_adj=taxonomy[tree_taxon_ids, \"T_GLM_p_adj\"],\n",
    "                             sig=taxonomy[tree_taxon_ids, \"SubG_GLM_p_adj\"] <= 0.05 | \n",
    "                                 taxonomy[tree_taxon_ids, \"SupG_GLM_p_adj\"] <= 0.05 |\n",
    "                                 taxonomy[tree_taxon_ids, \"Sal_GLM_p_adj\"] <= 0.05 |\n",
    "                                 taxonomy[tree_taxon_ids, \"T_GLM_p_adj\"] <= 0.05\n",
    "                            )\n",
    "    tip_labels$sig[tip_labels$sig == FALSE] <- NA\n",
    "    i <- 1\n",
    "    p <- ggtree(asv_subtree, layout=layout)\n",
    "    if (layout == 'circular' || layout == 'radial' || layout == 'fan') {\n",
    "        p <- p %<+% tip_labels + geom_tiplab2(aes(label=classification, colour=subg_slope)) +\n",
    "                                 scale_colour_distiller(type = 'div', palette = 'RdBu', direction = -1)\n",
    "    } else {\n",
    "        plot_list <- list()\n",
    "        p <- p %<+% tip_labels + geom_tiplab(aes(label=classification), align=TRUE) +\n",
    "                                 geom_tippoint(aes(shape=sig), colour=\"red\", size=4)\n",
    "        \n",
    "        #Create the time-series plots and put them in a list, to plot on the right\n",
    "        for (asv in na.omit(tip_labels[tip_labels$T_p_val <= 0.05, \"taxa\"])) {\n",
    "            sig_node <- p$data$node[p$data$label == asv]\n",
    "            p <- p + geom_hilight(node=sig_node, extend=hilight_width*4, fill = \"#FFFF00\")\n",
    "            plot_list[[i]] <- plot_asv_time_series(asv, \"T\", taxonomy[asv, 'T_GLM_p'], taxonomy[asv, 'T_GLM_p_adj'])\n",
    "            i <- i + 1\n",
    "        }\n",
    "        for (asv in na.omit(tip_labels[tip_labels$sal_p_val <= 0.05, \"taxa\"])) {\n",
    "            sig_node <- p$data$node[p$data$label == asv]\n",
    "            p <- p + geom_hilight(node=sig_node, extend=hilight_width*3, fill = \"#0000FF\")\n",
    "            plot_list[[i]] <- plot_asv_time_series(asv, \"Sal\", taxonomy[asv, 'Sal_GLM_p'], taxonomy[asv, 'Sal_GLM_p_adj'])\n",
    "            i <- i + 1\n",
    "        }\n",
    "        for (asv in na.omit(tip_labels[tip_labels$supg_p_val <= 0.05, \"taxa\"])) {\n",
    "            sig_node <- p$data$node[p$data$label == asv]\n",
    "            p <- p + geom_hilight(node=sig_node, extend=hilight_width*2, fill = \"#00FF00\")\n",
    "            plot_list[[i]] <- plot_asv_time_series(asv, \"SupG\", taxonomy[asv, 'SupG_GLM_p'], taxonomy[asv, 'SupG_GLM_p_adj'])\n",
    "            i <- i + 1\n",
    "        }\n",
    "        \n",
    "        for (asv in na.omit(tip_labels[tip_labels$subg_p_val <= 0.05, \"taxa\"])) {\n",
    "            sig_node <- p$data$node[p$data$label == asv]\n",
    "            p <- p + geom_hilight(node=sig_node, extend=hilight_width, fill = \"#FF0000\")\n",
    "            plot_list[[i]] <- plot_asv_time_series(asv, \"SubG\",taxonomy[asv, 'SubG_GLM_p'], taxonomy[asv, 'SubG_GLM_p_adj'])\n",
    "            i <- i + 1\n",
    "        }\n",
    "    }\n",
    "    #Add a heatmap of effect sizes\n",
    "    p <- gheatmap(p+theme_tree2(), taxonomy[,c(\"SubG_GLM_time_slope\",\n",
    "                                               \"SupG_GLM_time_slope\", \n",
    "                                               \"Sal_GLM_time_slope\", \n",
    "                                               \"T_GLM_time_slope\")], \n",
    "                  width=0.1, color='black', \n",
    "                  low='black', high='red', \n",
    "                  offset=heatmap_offset, colnames_angle=-45) + \n",
    "                  scale_fill_distiller(palette=\"RdYlGn\")\n",
    "    ts <- plot_grid(plotlist=plot_list, ncol=1)\n",
    "    ts <- plot_grid(plotlist=list(blankPlot, ts, blankPlot), rel_heights=c(1.0, ts_scale_factor, 1.0), ncol=1)\n",
    "    pl <- plot_grid(p, ts, ncol=2, rel_widths = c(1,0.5))\n",
    "    pl\n",
    "}"
   ]
  },
  {
   "cell_type": "code",
   "execution_count": 3,
   "metadata": {},
   "outputs": [],
   "source": [
    "asv_tree<-read.newick(\"data/tree_full.nwk\")\n",
    "taxonomy <- read.table(\"data/taxonomy.tsv\", sep=\"\\t\", header=1, row.names=1)\n",
    "taxonomy$Taxa <- taxonomy$asv_id\n",
    "md <- read.table(\"data/METADATA.txt\", sep=\"\\t\", header=1, row.names=1)\n",
    "rownames(md) <- gsub(\"-\",\".\",rownames(md))\n",
    "asv_tab <- read.table(\"data/asv_table.tsv\", sep=\"\\t\", comment.char=\"\", skip=1, header=1, row.names=1)\n",
    "asv_tab.clr <- t(as.data.frame(clr(t(asv_tab))))\n",
    "rownames(asv_tab.clr) <- rownames(asv_tab)\n",
    "asv_tab.clr.m <- melt(asv_tab.clr)\n",
    "colnames(asv_tab.clr.m) <- c(\"asv_id\",\"sample_id\",\"clr_rel_abund\")\n",
    "asv_tab.clr.m$phase <- md[as.vector(asv_tab.clr.m$sample_id),'phase']\n",
    "asv_tab.clr.m$time <- md[as.vector(asv_tab.clr.m$sample_id),'timePoint']\n",
    "levels(asv_tab.clr.m$time)[levels(asv_tab.clr.m$time) == \"B\"] <- \"-7\"\n",
    "asv_tab.clr.m$time <- factor(asv_tab.clr.m$time, levels=c(\"-7\",\"0\",\"7\",\"14\",\"21\",\"28\",\"35\"))\n",
    "asv_tab.clr.m$type <- md[as.vector(asv_tab.clr.m$sample_id),'sampleType']\n",
    "asv_tab.clr.m$subject <- md[as.vector(asv_tab.clr.m$sample_id),'subject']"
   ]
  },
  {
   "cell_type": "code",
   "execution_count": 5,
   "metadata": {},
   "outputs": [],
   "source": [
    "#Fill the Taxonomy data frame with the p values and slopes of a GLM run for each ASV\n",
    "for (asv in unique(asv_tab.clr.m$asv_id)) {\n",
    "    for (sample_type in c(\"SubG\", \"SupG\", \"Sal\", \"T\")) {\n",
    "        #If it's already computed, don't recompute\n",
    "        if ((paste(sample_type, '_GLM_p', sep=\"\") %in% colnames(taxonomy)) && (!is.na(taxonomy[asv, paste(sample_type, '_GLM_p', sep=\"\")]))) {\n",
    "            break()\n",
    "        }\n",
    "        data_subset <- asv_tab.clr.m[asv_tab.clr.m$asv_id==asv,]\n",
    "        #We only want to model the induction phase\n",
    "        data_subset <- subset(data_subset,phase=='induction')\n",
    "        #We only want to test one sample type at a time\n",
    "        data_subset <- subset(data_subset,type==sample_type)\n",
    "        #Encode as numeric for proper regression calculation\n",
    "        data_subset$time <- as.numeric(as.character(data_subset$time))\n",
    "        #Turn off warnings for the lm fitting, since a lot of sparse organisms will cause singular matrices\n",
    "        options(warn=-1)\n",
    "        fit1 <- tryCatch({\n",
    "            #****** THIS IS WHERE THE GLM MODEL IS, IF YOU'RE LOOKING FOR IT ******\n",
    "            fit1 <- lmer(clr_rel_abund~time+(1|subject), data=data_subset)\n",
    "            }, \n",
    "            error = function(e) {fit1 <- NA},\n",
    "            finally = function(e) fit1,\n",
    "            silent=TRUE)\n",
    "        if (!is.na(fit1)) {\n",
    "            # Note: This is using the lmerModLmerTest anova overload\n",
    "            # type=2 because we don't believe that there will be meaningful interactions\n",
    "            p.val <- as.numeric(anova(fit1, type=2)['time',\"Pr(>F)\"])\n",
    "            slope_est <- as.numeric(coef(fit1)$subject$time[1])\n",
    "        } else {\n",
    "            p.val <- NA\n",
    "            slope_est <- NA\n",
    "        }\n",
    "        options(warn=0)\n",
    "        taxonomy[asv, paste(sample_type, '_GLM_p', sep=\"\")] <- p.val\n",
    "        taxonomy[asv, paste(sample_type, '_GLM_time_slope', sep=\"\")] <- slope_est\n",
    "    }\n",
    "}\n",
    "#Get the significant ASVs, after FDR correction\n",
    "taxonomy[,\"SubG_GLM_p_adj\"] <- p.adjust(taxonomy[,\"SubG_GLM_p\"], method = \"fdr\")\n",
    "taxonomy[,\"SupG_GLM_p_adj\"] <- p.adjust(taxonomy[,\"SupG_GLM_p\"], method = \"fdr\")\n",
    "taxonomy[,\"Sal_GLM_p_adj\"] <- p.adjust(taxonomy[,\"Sal_GLM_p\"], method = \"fdr\")\n",
    "taxonomy[,\"T_GLM_p_adj\"] <- p.adjust(taxonomy[,\"T_GLM_p\"], method = \"fdr\")"
   ]
  },
  {
   "cell_type": "code",
   "execution_count": 6,
   "metadata": {
    "scrolled": false
   },
   "outputs": [
    {
     "data": {
      "text/html": [
       "<table>\n",
       "<thead><tr><th></th><th scope=col>Taxon</th><th scope=col>Confidence</th><th scope=col>SubG_GLM_p</th><th scope=col>SubG_GLM_time_slope</th><th scope=col>SupG_GLM_p</th><th scope=col>SupG_GLM_time_slope</th><th scope=col>Sal_GLM_p</th><th scope=col>Sal_GLM_time_slope</th><th scope=col>T_GLM_p</th><th scope=col>T_GLM_time_slope</th><th scope=col>SubG_GLM_p_adj</th><th scope=col>SupG_GLM_p_adj</th><th scope=col>Sal_GLM_p_adj</th><th scope=col>T_GLM_p_adj</th></tr></thead>\n",
       "<tbody>\n",
       "\t<tr><th scope=row>af15d021e7a019bfca1083d5f89d39fc</th><td>k__Bacteria; p__Firmicutes; c__Bacilli; o__Lactobacillales; f__Carnobacteriaceae; g__Granulicatella; s__                        </td><td>0.9159282                                                                                                                       </td><td>1.013245e-04                                                                                                                    </td><td>-0.05179799                                                                                                                     </td><td>1.985268e-01                                                                                                                    </td><td>-0.018505955                                                                                                                    </td><td>0.066361056                                                                                                                     </td><td> 0.028821129                                                                                                                    </td><td>0.88566641                                                                                                                      </td><td> 0.0015015023                                                                                                                   </td><td>0.0392174365                                                                                                                    </td><td>3.752876e-01                                                                                                                    </td><td>0.4938522                                                                                                                       </td><td>0.9134772                                                                                                                       </td></tr>\n",
       "\t<tr><th scope=row>5b0fd4751414404948cd982e2f4b3c13</th><td>k__Bacteria; p__Actinobacteria; c__Actinobacteria; o__Actinomycetales; f__Actinomycetaceae; g__Actinomyces; s__                 </td><td>0.9999948                                                                                                                       </td><td>8.655377e-06                                                                                                                    </td><td>-0.06912158                                                                                                                     </td><td>1.491298e-03                                                                                                                    </td><td>-0.054187543                                                                                                                    </td><td>0.271710778                                                                                                                     </td><td> 0.007542483                                                                                                                    </td><td>0.22151851                                                                                                                      </td><td> 0.0069668795                                                                                                                   </td><td>0.0094372459                                                                                                                    </td><td>1.511804e-01                                                                                                                    </td><td>0.6363455                                                                                                                       </td><td>0.5174420                                                                                                                       </td></tr>\n",
       "\t<tr><th scope=row>7ee5ba33b78446d76ae3c85c71b2ab7b</th><td>k__Bacteria; p__Proteobacteria; c__Gammaproteobacteria; o__Pasteurellales; f__Pasteurellaceae; g__Haemophilus; s__parainfluenzae</td><td>0.9455938                                                                                                                       </td><td>4.558339e-05                                                                                                                    </td><td>-0.06374823                                                                                                                     </td><td>1.080883e-04                                                                                                                    </td><td>-0.061523821                                                                                                                    </td><td>0.085465386                                                                                                                     </td><td>-0.017583809                                                                                                                    </td><td>0.06705839                                                                                                                      </td><td>-0.0055935727                                                                                                                   </td><td>0.0227695915                                                                                                                    </td><td>2.390716e-02                                                                                                                    </td><td>0.4938522                                                                                                                       </td><td>0.4411245                                                                                                                       </td></tr>\n",
       "\t<tr><th scope=row>204d401bcaf4b5cf7eb6f5e23dc91d1d</th><td>k__Bacteria; p__Firmicutes; c__Clostridia; o__Clostridiales; f__Veillonellaceae; g__Selenomonas; s__                            </td><td>0.9799151                                                                                                                       </td><td>1.093740e-06                                                                                                                    </td><td> 0.08790868                                                                                                                     </td><td>3.085039e-06                                                                                                                    </td><td> 0.075897136                                                                                                                    </td><td>0.004131483                                                                                                                     </td><td> 0.030780544                                                                                                                    </td><td>0.25320810                                                                                                                      </td><td>-0.0110506094                                                                                                                   </td><td>0.0017888124                                                                                                                    </td><td>2.501967e-03                                                                                                                    </td><td>0.4938522                                                                                                                       </td><td>0.5747154                                                                                                                       </td></tr>\n",
       "\t<tr><th scope=row>a5f64d25bfb9184658a6597d76096fb1</th><td>k__Bacteria; p__Proteobacteria; c__Gammaproteobacteria; o__Pasteurellales; f__Pasteurellaceae; g__Haemophilus; s__parainfluenzae</td><td>0.9685624                                                                                                                       </td><td>4.872734e-05                                                                                                                    </td><td>-0.07250352                                                                                                                     </td><td>5.291483e-04                                                                                                                    </td><td>-0.051151634                                                                                                                    </td><td>0.099856814                                                                                                                     </td><td>-0.016010530                                                                                                                    </td><td>0.28129845                                                                                                                      </td><td>-0.0118201231                                                                                                                   </td><td>0.0227695915                                                                                                                    </td><td>9.404529e-02                                                                                                                    </td><td>0.4938522                                                                                                                       </td><td>0.6262367                                                                                                                       </td></tr>\n",
       "\t<tr><th scope=row>fbb1ae43656b5280c270643d716b31a7</th><td>k__Bacteria; p__Fusobacteria; c__Fusobacteriia; o__Fusobacteriales; f__Fusobacteriaceae; g__Fusobacterium; s__                  </td><td>0.9999885                                                                                                                       </td><td>4.750864e-05                                                                                                                    </td><td> 0.05826388                                                                                                                     </td><td>7.939188e-01                                                                                                                    </td><td>-0.003391082                                                                                                                    </td><td>0.013394839                                                                                                                     </td><td> 0.020170680                                                                                                                    </td><td>0.78454906                                                                                                                      </td><td>-0.0006195811                                                                                                                   </td><td>0.0227695915                                                                                                                    </td><td>8.394630e-01                                                                                                                    </td><td>0.4938522                                                                                                                       </td><td>0.8312716                                                                                                                       </td></tr>\n",
       "\t<tr><th scope=row>bff540f2d9cf8c25ed1bc1a5061f023c</th><td>k__Bacteria; p__Firmicutes; c__Bacilli; o__Lactobacillales; f__Streptococcaceae; g__Streptococcus; s__                          </td><td>0.9625488                                                                                                                       </td><td>3.594724e-08                                                                                                                    </td><td>-0.11324465                                                                                                                     </td><td>3.769851e-09                                                                                                                    </td><td>-0.092522922                                                                                                                    </td><td>0.015717007                                                                                                                     </td><td>-0.032744507                                                                                                                    </td><td>0.66039078                                                                                                                      </td><td>-0.0035771570                                                                                                                   </td><td>0.0001175834                                                                                                                    </td><td>9.172049e-06                                                                                                                    </td><td>0.4938522                                                                                                                       </td><td>0.7226726                                                                                                                       </td></tr>\n",
       "\t<tr><th scope=row>394b7bd8355b485e02d10118bb1d82ca</th><td>k__Bacteria; p__Firmicutes; c__Bacilli; o__Lactobacillales; f__Streptococcaceae; g__Streptococcus                               </td><td>0.9999993                                                                                                                       </td><td>1.082558e-04                                                                                                                    </td><td>-0.05115887                                                                                                                     </td><td>1.588989e-02                                                                                                                    </td><td>-0.031289164                                                                                                                    </td><td>0.038408920                                                                                                                     </td><td> 0.020378392                                                                                                                    </td><td>0.64742681                                                                                                                      </td><td> 0.0063236252                                                                                                                   </td><td>0.0392174365                                                                                                                    </td><td>3.521346e-01                                                                                                                    </td><td>0.4938522                                                                                                                       </td><td>0.7214296                                                                                                                       </td></tr>\n",
       "\t<tr><th scope=row>e4d9332ac60f495af8c7147d1f9d959d</th><td>k__Bacteria; p__Firmicutes; c__Bacilli; o__Lactobacillales; f__Carnobacteriaceae; g__Granulicatella; s__                        </td><td>0.7974547                                                                                                                       </td><td>4.632924e-05                                                                                                                    </td><td>-0.06530718                                                                                                                     </td><td>1.958536e-05                                                                                                                    </td><td>-0.061850827                                                                                                                    </td><td>0.131838242                                                                                                                     </td><td>-0.012006914                                                                                                                    </td><td>0.08297990                                                                                                                      </td><td>-0.0284774580                                                                                                                   </td><td>0.0227695915                                                                                                                    </td><td>7.941863e-03                                                                                                                    </td><td>0.4938522                                                                                                                       </td><td>0.4411245                                                                                                                       </td></tr>\n",
       "\t<tr><th scope=row>0283abaec1c68324a4becee8a201a07c</th><td>k__Bacteria; p__Actinobacteria; c__Actinobacteria; o__Actinomycetales; f__Micrococcaceae; g__Rothia; s__aeria                   </td><td>0.8927406                                                                                                                       </td><td>1.198943e-04                                                                                                                    </td><td>-0.06398349                                                                                                                     </td><td>3.228002e-02                                                                                                                    </td><td>-0.037256777                                                                                                                    </td><td>0.157436468                                                                                                                     </td><td>-0.006384031                                                                                                                    </td><td>0.65857908                                                                                                                      </td><td> 0.0002531572                                                                                                                   </td><td>0.0392174365                                                                                                                    </td><td>3.521346e-01                                                                                                                    </td><td>0.4938522                                                                                                                       </td><td>0.7214296                                                                                                                       </td></tr>\n",
       "</tbody>\n",
       "</table>\n"
      ],
      "text/latex": [
       "\\begin{tabular}{r|llllllllllllll}\n",
       "  & Taxon & Confidence & SubG\\_GLM\\_p & SubG\\_GLM\\_time\\_slope & SupG\\_GLM\\_p & SupG\\_GLM\\_time\\_slope & Sal\\_GLM\\_p & Sal\\_GLM\\_time\\_slope & T\\_GLM\\_p & T\\_GLM\\_time\\_slope & SubG\\_GLM\\_p\\_adj & SupG\\_GLM\\_p\\_adj & Sal\\_GLM\\_p\\_adj & T\\_GLM\\_p\\_adj\\\\\n",
       "\\hline\n",
       "\taf15d021e7a019bfca1083d5f89d39fc & k\\_\\_Bacteria; p\\_\\_Firmicutes; c\\_\\_Bacilli; o\\_\\_Lactobacillales; f\\_\\_Carnobacteriaceae; g\\_\\_Granulicatella; s\\_\\_                         & 0.9159282                                                                                                                                                    & 1.013245e-04                                                                                                                                                 & -0.05179799                                                                                                                                                  & 1.985268e-01                                                                                                                                                 & -0.018505955                                                                                                                                                 & 0.066361056                                                                                                                                                  &  0.028821129                                                                                                                                                 & 0.88566641                                                                                                                                                   &  0.0015015023                                                                                                                                                & 0.0392174365                                                                                                                                                 & 3.752876e-01                                                                                                                                                 & 0.4938522                                                                                                                                                    & 0.9134772                                                                                                                                                   \\\\\n",
       "\t5b0fd4751414404948cd982e2f4b3c13 & k\\_\\_Bacteria; p\\_\\_Actinobacteria; c\\_\\_Actinobacteria; o\\_\\_Actinomycetales; f\\_\\_Actinomycetaceae; g\\_\\_Actinomyces; s\\_\\_                  & 0.9999948                                                                                                                                                    & 8.655377e-06                                                                                                                                                 & -0.06912158                                                                                                                                                  & 1.491298e-03                                                                                                                                                 & -0.054187543                                                                                                                                                 & 0.271710778                                                                                                                                                  &  0.007542483                                                                                                                                                 & 0.22151851                                                                                                                                                   &  0.0069668795                                                                                                                                                & 0.0094372459                                                                                                                                                 & 1.511804e-01                                                                                                                                                 & 0.6363455                                                                                                                                                    & 0.5174420                                                                                                                                                   \\\\\n",
       "\t7ee5ba33b78446d76ae3c85c71b2ab7b & k\\_\\_Bacteria; p\\_\\_Proteobacteria; c\\_\\_Gammaproteobacteria; o\\_\\_Pasteurellales; f\\_\\_Pasteurellaceae; g\\_\\_Haemophilus; s\\_\\_parainfluenzae & 0.9455938                                                                                                                                                    & 4.558339e-05                                                                                                                                                 & -0.06374823                                                                                                                                                  & 1.080883e-04                                                                                                                                                 & -0.061523821                                                                                                                                                 & 0.085465386                                                                                                                                                  & -0.017583809                                                                                                                                                 & 0.06705839                                                                                                                                                   & -0.0055935727                                                                                                                                                & 0.0227695915                                                                                                                                                 & 2.390716e-02                                                                                                                                                 & 0.4938522                                                                                                                                                    & 0.4411245                                                                                                                                                   \\\\\n",
       "\t204d401bcaf4b5cf7eb6f5e23dc91d1d & k\\_\\_Bacteria; p\\_\\_Firmicutes; c\\_\\_Clostridia; o\\_\\_Clostridiales; f\\_\\_Veillonellaceae; g\\_\\_Selenomonas; s\\_\\_                             & 0.9799151                                                                                                                                                    & 1.093740e-06                                                                                                                                                 &  0.08790868                                                                                                                                                  & 3.085039e-06                                                                                                                                                 &  0.075897136                                                                                                                                                 & 0.004131483                                                                                                                                                  &  0.030780544                                                                                                                                                 & 0.25320810                                                                                                                                                   & -0.0110506094                                                                                                                                                & 0.0017888124                                                                                                                                                 & 2.501967e-03                                                                                                                                                 & 0.4938522                                                                                                                                                    & 0.5747154                                                                                                                                                   \\\\\n",
       "\ta5f64d25bfb9184658a6597d76096fb1 & k\\_\\_Bacteria; p\\_\\_Proteobacteria; c\\_\\_Gammaproteobacteria; o\\_\\_Pasteurellales; f\\_\\_Pasteurellaceae; g\\_\\_Haemophilus; s\\_\\_parainfluenzae & 0.9685624                                                                                                                                                    & 4.872734e-05                                                                                                                                                 & -0.07250352                                                                                                                                                  & 5.291483e-04                                                                                                                                                 & -0.051151634                                                                                                                                                 & 0.099856814                                                                                                                                                  & -0.016010530                                                                                                                                                 & 0.28129845                                                                                                                                                   & -0.0118201231                                                                                                                                                & 0.0227695915                                                                                                                                                 & 9.404529e-02                                                                                                                                                 & 0.4938522                                                                                                                                                    & 0.6262367                                                                                                                                                   \\\\\n",
       "\tfbb1ae43656b5280c270643d716b31a7 & k\\_\\_Bacteria; p\\_\\_Fusobacteria; c\\_\\_Fusobacteriia; o\\_\\_Fusobacteriales; f\\_\\_Fusobacteriaceae; g\\_\\_Fusobacterium; s\\_\\_                   & 0.9999885                                                                                                                                                    & 4.750864e-05                                                                                                                                                 &  0.05826388                                                                                                                                                  & 7.939188e-01                                                                                                                                                 & -0.003391082                                                                                                                                                 & 0.013394839                                                                                                                                                  &  0.020170680                                                                                                                                                 & 0.78454906                                                                                                                                                   & -0.0006195811                                                                                                                                                & 0.0227695915                                                                                                                                                 & 8.394630e-01                                                                                                                                                 & 0.4938522                                                                                                                                                    & 0.8312716                                                                                                                                                   \\\\\n",
       "\tbff540f2d9cf8c25ed1bc1a5061f023c & k\\_\\_Bacteria; p\\_\\_Firmicutes; c\\_\\_Bacilli; o\\_\\_Lactobacillales; f\\_\\_Streptococcaceae; g\\_\\_Streptococcus; s\\_\\_                           & 0.9625488                                                                                                                                                    & 3.594724e-08                                                                                                                                                 & -0.11324465                                                                                                                                                  & 3.769851e-09                                                                                                                                                 & -0.092522922                                                                                                                                                 & 0.015717007                                                                                                                                                  & -0.032744507                                                                                                                                                 & 0.66039078                                                                                                                                                   & -0.0035771570                                                                                                                                                & 0.0001175834                                                                                                                                                 & 9.172049e-06                                                                                                                                                 & 0.4938522                                                                                                                                                    & 0.7226726                                                                                                                                                   \\\\\n",
       "\t394b7bd8355b485e02d10118bb1d82ca & k\\_\\_Bacteria; p\\_\\_Firmicutes; c\\_\\_Bacilli; o\\_\\_Lactobacillales; f\\_\\_Streptococcaceae; g\\_\\_Streptococcus                                & 0.9999993                                                                                                                                                & 1.082558e-04                                                                                                                                             & -0.05115887                                                                                                                                              & 1.588989e-02                                                                                                                                             & -0.031289164                                                                                                                                             & 0.038408920                                                                                                                                              &  0.020378392                                                                                                                                             & 0.64742681                                                                                                                                               &  0.0063236252                                                                                                                                            & 0.0392174365                                                                                                                                             & 3.521346e-01                                                                                                                                             & 0.4938522                                                                                                                                                & 0.7214296                                                                                                                                               \\\\\n",
       "\te4d9332ac60f495af8c7147d1f9d959d & k\\_\\_Bacteria; p\\_\\_Firmicutes; c\\_\\_Bacilli; o\\_\\_Lactobacillales; f\\_\\_Carnobacteriaceae; g\\_\\_Granulicatella; s\\_\\_                         & 0.7974547                                                                                                                                                    & 4.632924e-05                                                                                                                                                 & -0.06530718                                                                                                                                                  & 1.958536e-05                                                                                                                                                 & -0.061850827                                                                                                                                                 & 0.131838242                                                                                                                                                  & -0.012006914                                                                                                                                                 & 0.08297990                                                                                                                                                   & -0.0284774580                                                                                                                                                & 0.0227695915                                                                                                                                                 & 7.941863e-03                                                                                                                                                 & 0.4938522                                                                                                                                                    & 0.4411245                                                                                                                                                   \\\\\n",
       "\t0283abaec1c68324a4becee8a201a07c & k\\_\\_Bacteria; p\\_\\_Actinobacteria; c\\_\\_Actinobacteria; o\\_\\_Actinomycetales; f\\_\\_Micrococcaceae; g\\_\\_Rothia; s\\_\\_aeria                    & 0.8927406                                                                                                                                                    & 1.198943e-04                                                                                                                                                 & -0.06398349                                                                                                                                                  & 3.228002e-02                                                                                                                                                 & -0.037256777                                                                                                                                                 & 0.157436468                                                                                                                                                  & -0.006384031                                                                                                                                                 & 0.65857908                                                                                                                                                   &  0.0002531572                                                                                                                                                & 0.0392174365                                                                                                                                                 & 3.521346e-01                                                                                                                                                 & 0.4938522                                                                                                                                                    & 0.7214296                                                                                                                                                   \\\\\n",
       "\\end{tabular}\n"
      ],
      "text/markdown": [
       "\n",
       "| <!--/--> | Taxon | Confidence | SubG_GLM_p | SubG_GLM_time_slope | SupG_GLM_p | SupG_GLM_time_slope | Sal_GLM_p | Sal_GLM_time_slope | T_GLM_p | T_GLM_time_slope | SubG_GLM_p_adj | SupG_GLM_p_adj | Sal_GLM_p_adj | T_GLM_p_adj | \n",
       "|---|---|---|---|---|---|---|---|---|---|\n",
       "| af15d021e7a019bfca1083d5f89d39fc | k__Bacteria; p__Firmicutes; c__Bacilli; o__Lactobacillales; f__Carnobacteriaceae; g__Granulicatella; s__                         | 0.9159282                                                                                                                        | 1.013245e-04                                                                                                                     | -0.05179799                                                                                                                      | 1.985268e-01                                                                                                                     | -0.018505955                                                                                                                     | 0.066361056                                                                                                                      |  0.028821129                                                                                                                     | 0.88566641                                                                                                                       |  0.0015015023                                                                                                                    | 0.0392174365                                                                                                                     | 3.752876e-01                                                                                                                     | 0.4938522                                                                                                                        | 0.9134772                                                                                                                        | \n",
       "| 5b0fd4751414404948cd982e2f4b3c13 | k__Bacteria; p__Actinobacteria; c__Actinobacteria; o__Actinomycetales; f__Actinomycetaceae; g__Actinomyces; s__                  | 0.9999948                                                                                                                        | 8.655377e-06                                                                                                                     | -0.06912158                                                                                                                      | 1.491298e-03                                                                                                                     | -0.054187543                                                                                                                     | 0.271710778                                                                                                                      |  0.007542483                                                                                                                     | 0.22151851                                                                                                                       |  0.0069668795                                                                                                                    | 0.0094372459                                                                                                                     | 1.511804e-01                                                                                                                     | 0.6363455                                                                                                                        | 0.5174420                                                                                                                        | \n",
       "| 7ee5ba33b78446d76ae3c85c71b2ab7b | k__Bacteria; p__Proteobacteria; c__Gammaproteobacteria; o__Pasteurellales; f__Pasteurellaceae; g__Haemophilus; s__parainfluenzae | 0.9455938                                                                                                                        | 4.558339e-05                                                                                                                     | -0.06374823                                                                                                                      | 1.080883e-04                                                                                                                     | -0.061523821                                                                                                                     | 0.085465386                                                                                                                      | -0.017583809                                                                                                                     | 0.06705839                                                                                                                       | -0.0055935727                                                                                                                    | 0.0227695915                                                                                                                     | 2.390716e-02                                                                                                                     | 0.4938522                                                                                                                        | 0.4411245                                                                                                                        | \n",
       "| 204d401bcaf4b5cf7eb6f5e23dc91d1d | k__Bacteria; p__Firmicutes; c__Clostridia; o__Clostridiales; f__Veillonellaceae; g__Selenomonas; s__                             | 0.9799151                                                                                                                        | 1.093740e-06                                                                                                                     |  0.08790868                                                                                                                      | 3.085039e-06                                                                                                                     |  0.075897136                                                                                                                     | 0.004131483                                                                                                                      |  0.030780544                                                                                                                     | 0.25320810                                                                                                                       | -0.0110506094                                                                                                                    | 0.0017888124                                                                                                                     | 2.501967e-03                                                                                                                     | 0.4938522                                                                                                                        | 0.5747154                                                                                                                        | \n",
       "| a5f64d25bfb9184658a6597d76096fb1 | k__Bacteria; p__Proteobacteria; c__Gammaproteobacteria; o__Pasteurellales; f__Pasteurellaceae; g__Haemophilus; s__parainfluenzae | 0.9685624                                                                                                                        | 4.872734e-05                                                                                                                     | -0.07250352                                                                                                                      | 5.291483e-04                                                                                                                     | -0.051151634                                                                                                                     | 0.099856814                                                                                                                      | -0.016010530                                                                                                                     | 0.28129845                                                                                                                       | -0.0118201231                                                                                                                    | 0.0227695915                                                                                                                     | 9.404529e-02                                                                                                                     | 0.4938522                                                                                                                        | 0.6262367                                                                                                                        | \n",
       "| fbb1ae43656b5280c270643d716b31a7 | k__Bacteria; p__Fusobacteria; c__Fusobacteriia; o__Fusobacteriales; f__Fusobacteriaceae; g__Fusobacterium; s__                   | 0.9999885                                                                                                                        | 4.750864e-05                                                                                                                     |  0.05826388                                                                                                                      | 7.939188e-01                                                                                                                     | -0.003391082                                                                                                                     | 0.013394839                                                                                                                      |  0.020170680                                                                                                                     | 0.78454906                                                                                                                       | -0.0006195811                                                                                                                    | 0.0227695915                                                                                                                     | 8.394630e-01                                                                                                                     | 0.4938522                                                                                                                        | 0.8312716                                                                                                                        | \n",
       "| bff540f2d9cf8c25ed1bc1a5061f023c | k__Bacteria; p__Firmicutes; c__Bacilli; o__Lactobacillales; f__Streptococcaceae; g__Streptococcus; s__                           | 0.9625488                                                                                                                        | 3.594724e-08                                                                                                                     | -0.11324465                                                                                                                      | 3.769851e-09                                                                                                                     | -0.092522922                                                                                                                     | 0.015717007                                                                                                                      | -0.032744507                                                                                                                     | 0.66039078                                                                                                                       | -0.0035771570                                                                                                                    | 0.0001175834                                                                                                                     | 9.172049e-06                                                                                                                     | 0.4938522                                                                                                                        | 0.7226726                                                                                                                        | \n",
       "| 394b7bd8355b485e02d10118bb1d82ca | k__Bacteria; p__Firmicutes; c__Bacilli; o__Lactobacillales; f__Streptococcaceae; g__Streptococcus                                | 0.9999993                                                                                                                        | 1.082558e-04                                                                                                                     | -0.05115887                                                                                                                      | 1.588989e-02                                                                                                                     | -0.031289164                                                                                                                     | 0.038408920                                                                                                                      |  0.020378392                                                                                                                     | 0.64742681                                                                                                                       |  0.0063236252                                                                                                                    | 0.0392174365                                                                                                                     | 3.521346e-01                                                                                                                     | 0.4938522                                                                                                                        | 0.7214296                                                                                                                        | \n",
       "| e4d9332ac60f495af8c7147d1f9d959d | k__Bacteria; p__Firmicutes; c__Bacilli; o__Lactobacillales; f__Carnobacteriaceae; g__Granulicatella; s__                         | 0.7974547                                                                                                                        | 4.632924e-05                                                                                                                     | -0.06530718                                                                                                                      | 1.958536e-05                                                                                                                     | -0.061850827                                                                                                                     | 0.131838242                                                                                                                      | -0.012006914                                                                                                                     | 0.08297990                                                                                                                       | -0.0284774580                                                                                                                    | 0.0227695915                                                                                                                     | 7.941863e-03                                                                                                                     | 0.4938522                                                                                                                        | 0.4411245                                                                                                                        | \n",
       "| 0283abaec1c68324a4becee8a201a07c | k__Bacteria; p__Actinobacteria; c__Actinobacteria; o__Actinomycetales; f__Micrococcaceae; g__Rothia; s__aeria                    | 0.8927406                                                                                                                        | 1.198943e-04                                                                                                                     | -0.06398349                                                                                                                      | 3.228002e-02                                                                                                                     | -0.037256777                                                                                                                     | 0.157436468                                                                                                                      | -0.006384031                                                                                                                     | 0.65857908                                                                                                                       |  0.0002531572                                                                                                                    | 0.0392174365                                                                                                                     | 3.521346e-01                                                                                                                     | 0.4938522                                                                                                                        | 0.7214296                                                                                                                        | \n",
       "\n",
       "\n"
      ],
      "text/plain": [
       "                                 Taxon                                                                                                                           \n",
       "af15d021e7a019bfca1083d5f89d39fc k__Bacteria; p__Firmicutes; c__Bacilli; o__Lactobacillales; f__Carnobacteriaceae; g__Granulicatella; s__                        \n",
       "5b0fd4751414404948cd982e2f4b3c13 k__Bacteria; p__Actinobacteria; c__Actinobacteria; o__Actinomycetales; f__Actinomycetaceae; g__Actinomyces; s__                 \n",
       "7ee5ba33b78446d76ae3c85c71b2ab7b k__Bacteria; p__Proteobacteria; c__Gammaproteobacteria; o__Pasteurellales; f__Pasteurellaceae; g__Haemophilus; s__parainfluenzae\n",
       "204d401bcaf4b5cf7eb6f5e23dc91d1d k__Bacteria; p__Firmicutes; c__Clostridia; o__Clostridiales; f__Veillonellaceae; g__Selenomonas; s__                            \n",
       "a5f64d25bfb9184658a6597d76096fb1 k__Bacteria; p__Proteobacteria; c__Gammaproteobacteria; o__Pasteurellales; f__Pasteurellaceae; g__Haemophilus; s__parainfluenzae\n",
       "fbb1ae43656b5280c270643d716b31a7 k__Bacteria; p__Fusobacteria; c__Fusobacteriia; o__Fusobacteriales; f__Fusobacteriaceae; g__Fusobacterium; s__                  \n",
       "bff540f2d9cf8c25ed1bc1a5061f023c k__Bacteria; p__Firmicutes; c__Bacilli; o__Lactobacillales; f__Streptococcaceae; g__Streptococcus; s__                          \n",
       "394b7bd8355b485e02d10118bb1d82ca k__Bacteria; p__Firmicutes; c__Bacilli; o__Lactobacillales; f__Streptococcaceae; g__Streptococcus                               \n",
       "e4d9332ac60f495af8c7147d1f9d959d k__Bacteria; p__Firmicutes; c__Bacilli; o__Lactobacillales; f__Carnobacteriaceae; g__Granulicatella; s__                        \n",
       "0283abaec1c68324a4becee8a201a07c k__Bacteria; p__Actinobacteria; c__Actinobacteria; o__Actinomycetales; f__Micrococcaceae; g__Rothia; s__aeria                   \n",
       "                                 Confidence SubG_GLM_p   SubG_GLM_time_slope\n",
       "af15d021e7a019bfca1083d5f89d39fc 0.9159282  1.013245e-04 -0.05179799        \n",
       "5b0fd4751414404948cd982e2f4b3c13 0.9999948  8.655377e-06 -0.06912158        \n",
       "7ee5ba33b78446d76ae3c85c71b2ab7b 0.9455938  4.558339e-05 -0.06374823        \n",
       "204d401bcaf4b5cf7eb6f5e23dc91d1d 0.9799151  1.093740e-06  0.08790868        \n",
       "a5f64d25bfb9184658a6597d76096fb1 0.9685624  4.872734e-05 -0.07250352        \n",
       "fbb1ae43656b5280c270643d716b31a7 0.9999885  4.750864e-05  0.05826388        \n",
       "bff540f2d9cf8c25ed1bc1a5061f023c 0.9625488  3.594724e-08 -0.11324465        \n",
       "394b7bd8355b485e02d10118bb1d82ca 0.9999993  1.082558e-04 -0.05115887        \n",
       "e4d9332ac60f495af8c7147d1f9d959d 0.7974547  4.632924e-05 -0.06530718        \n",
       "0283abaec1c68324a4becee8a201a07c 0.8927406  1.198943e-04 -0.06398349        \n",
       "                                 SupG_GLM_p   SupG_GLM_time_slope Sal_GLM_p  \n",
       "af15d021e7a019bfca1083d5f89d39fc 1.985268e-01 -0.018505955        0.066361056\n",
       "5b0fd4751414404948cd982e2f4b3c13 1.491298e-03 -0.054187543        0.271710778\n",
       "7ee5ba33b78446d76ae3c85c71b2ab7b 1.080883e-04 -0.061523821        0.085465386\n",
       "204d401bcaf4b5cf7eb6f5e23dc91d1d 3.085039e-06  0.075897136        0.004131483\n",
       "a5f64d25bfb9184658a6597d76096fb1 5.291483e-04 -0.051151634        0.099856814\n",
       "fbb1ae43656b5280c270643d716b31a7 7.939188e-01 -0.003391082        0.013394839\n",
       "bff540f2d9cf8c25ed1bc1a5061f023c 3.769851e-09 -0.092522922        0.015717007\n",
       "394b7bd8355b485e02d10118bb1d82ca 1.588989e-02 -0.031289164        0.038408920\n",
       "e4d9332ac60f495af8c7147d1f9d959d 1.958536e-05 -0.061850827        0.131838242\n",
       "0283abaec1c68324a4becee8a201a07c 3.228002e-02 -0.037256777        0.157436468\n",
       "                                 Sal_GLM_time_slope T_GLM_p    T_GLM_time_slope\n",
       "af15d021e7a019bfca1083d5f89d39fc  0.028821129       0.88566641  0.0015015023   \n",
       "5b0fd4751414404948cd982e2f4b3c13  0.007542483       0.22151851  0.0069668795   \n",
       "7ee5ba33b78446d76ae3c85c71b2ab7b -0.017583809       0.06705839 -0.0055935727   \n",
       "204d401bcaf4b5cf7eb6f5e23dc91d1d  0.030780544       0.25320810 -0.0110506094   \n",
       "a5f64d25bfb9184658a6597d76096fb1 -0.016010530       0.28129845 -0.0118201231   \n",
       "fbb1ae43656b5280c270643d716b31a7  0.020170680       0.78454906 -0.0006195811   \n",
       "bff540f2d9cf8c25ed1bc1a5061f023c -0.032744507       0.66039078 -0.0035771570   \n",
       "394b7bd8355b485e02d10118bb1d82ca  0.020378392       0.64742681  0.0063236252   \n",
       "e4d9332ac60f495af8c7147d1f9d959d -0.012006914       0.08297990 -0.0284774580   \n",
       "0283abaec1c68324a4becee8a201a07c -0.006384031       0.65857908  0.0002531572   \n",
       "                                 SubG_GLM_p_adj SupG_GLM_p_adj Sal_GLM_p_adj\n",
       "af15d021e7a019bfca1083d5f89d39fc 0.0392174365   3.752876e-01   0.4938522    \n",
       "5b0fd4751414404948cd982e2f4b3c13 0.0094372459   1.511804e-01   0.6363455    \n",
       "7ee5ba33b78446d76ae3c85c71b2ab7b 0.0227695915   2.390716e-02   0.4938522    \n",
       "204d401bcaf4b5cf7eb6f5e23dc91d1d 0.0017888124   2.501967e-03   0.4938522    \n",
       "a5f64d25bfb9184658a6597d76096fb1 0.0227695915   9.404529e-02   0.4938522    \n",
       "fbb1ae43656b5280c270643d716b31a7 0.0227695915   8.394630e-01   0.4938522    \n",
       "bff540f2d9cf8c25ed1bc1a5061f023c 0.0001175834   9.172049e-06   0.4938522    \n",
       "394b7bd8355b485e02d10118bb1d82ca 0.0392174365   3.521346e-01   0.4938522    \n",
       "e4d9332ac60f495af8c7147d1f9d959d 0.0227695915   7.941863e-03   0.4938522    \n",
       "0283abaec1c68324a4becee8a201a07c 0.0392174365   3.521346e-01   0.4938522    \n",
       "                                 T_GLM_p_adj\n",
       "af15d021e7a019bfca1083d5f89d39fc 0.9134772  \n",
       "5b0fd4751414404948cd982e2f4b3c13 0.5174420  \n",
       "7ee5ba33b78446d76ae3c85c71b2ab7b 0.4411245  \n",
       "204d401bcaf4b5cf7eb6f5e23dc91d1d 0.5747154  \n",
       "a5f64d25bfb9184658a6597d76096fb1 0.6262367  \n",
       "fbb1ae43656b5280c270643d716b31a7 0.8312716  \n",
       "bff540f2d9cf8c25ed1bc1a5061f023c 0.7226726  \n",
       "394b7bd8355b485e02d10118bb1d82ca 0.7214296  \n",
       "e4d9332ac60f495af8c7147d1f9d959d 0.4411245  \n",
       "0283abaec1c68324a4becee8a201a07c 0.7214296  "
      ]
     },
     "metadata": {},
     "output_type": "display_data"
    }
   ],
   "source": [
    "na.omit(taxonomy[taxonomy$SubG_GLM_p_adj<=0.05,])"
   ]
  },
  {
   "cell_type": "code",
   "execution_count": 7,
   "metadata": {},
   "outputs": [
    {
     "data": {
      "text/html": [
       "<table>\n",
       "<thead><tr><th></th><th scope=col>Taxon</th><th scope=col>Confidence</th><th scope=col>SubG_GLM_p</th><th scope=col>SubG_GLM_time_slope</th><th scope=col>SupG_GLM_p</th><th scope=col>SupG_GLM_time_slope</th><th scope=col>Sal_GLM_p</th><th scope=col>Sal_GLM_time_slope</th><th scope=col>T_GLM_p</th><th scope=col>T_GLM_time_slope</th><th scope=col>SubG_GLM_p_adj</th><th scope=col>SupG_GLM_p_adj</th><th scope=col>Sal_GLM_p_adj</th><th scope=col>T_GLM_p_adj</th></tr></thead>\n",
       "<tbody>\n",
       "\t<tr><th scope=row>7ee5ba33b78446d76ae3c85c71b2ab7b</th><td>k__Bacteria; p__Proteobacteria; c__Gammaproteobacteria; o__Pasteurellales; f__Pasteurellaceae; g__Haemophilus; s__parainfluenzae</td><td>0.9455938                                                                                                                       </td><td>4.558339e-05                                                                                                                    </td><td>-0.06374823                                                                                                                     </td><td>1.080883e-04                                                                                                                    </td><td>-0.06152382                                                                                                                     </td><td>8.546539e-02                                                                                                                    </td><td>-0.017583809                                                                                                                    </td><td>0.06705839                                                                                                                      </td><td>-0.0055935727                                                                                                                   </td><td>0.0227695915                                                                                                                    </td><td>2.390716e-02                                                                                                                    </td><td>0.49385222                                                                                                                      </td><td>0.4411245                                                                                                                       </td></tr>\n",
       "\t<tr><th scope=row>204d401bcaf4b5cf7eb6f5e23dc91d1d</th><td>k__Bacteria; p__Firmicutes; c__Clostridia; o__Clostridiales; f__Veillonellaceae; g__Selenomonas; s__                            </td><td>0.9799151                                                                                                                       </td><td>1.093740e-06                                                                                                                    </td><td> 0.08790868                                                                                                                     </td><td>3.085039e-06                                                                                                                    </td><td> 0.07589714                                                                                                                     </td><td>4.131483e-03                                                                                                                    </td><td> 0.030780544                                                                                                                    </td><td>0.25320810                                                                                                                      </td><td>-0.0110506094                                                                                                                   </td><td>0.0017888124                                                                                                                    </td><td>2.501967e-03                                                                                                                    </td><td>0.49385222                                                                                                                      </td><td>0.5747154                                                                                                                       </td></tr>\n",
       "\t<tr><th scope=row>1e6d25db0409017169c6b81dda0b1f38</th><td>k__Bacteria; p__Bacteroidetes; c__Bacteroidia; o__Bacteroidales; f__Porphyromonadaceae; g__Porphyromonas; s__                   </td><td>0.9999989                                                                                                                       </td><td>2.401606e-02                                                                                                                    </td><td> 0.03426557                                                                                                                     </td><td>5.352735e-05                                                                                                                    </td><td> 0.05889005                                                                                                                     </td><td>3.790379e-02                                                                                                                    </td><td> 0.023685285                                                                                                                    </td><td>0.65857908                                                                                                                      </td><td> 0.0007279991                                                                                                                   </td><td>0.3325283411                                                                                                                    </td><td>1.447023e-02                                                                                                                    </td><td>0.49385222                                                                                                                      </td><td>0.7214296                                                                                                                       </td></tr>\n",
       "\t<tr><th scope=row>4cfd0200a2b65d01301ea8fd5078e275</th><td>k__Bacteria; p__Firmicutes; c__Clostridia; o__Clostridiales; f__Lachnospiraceae                                                 </td><td>0.8378514                                                                                                                       </td><td>4.360620e-02                                                                                                                    </td><td> 0.02731785                                                                                                                     </td><td>3.046771e-05                                                                                                                    </td><td> 0.04894622                                                                                                                     </td><td>4.034452e-01                                                                                                                    </td><td>-0.007531064                                                                                                                    </td><td>0.01708089                                                                                                                      </td><td>-0.0255959147                                                                                                                   </td><td>0.3325283411                                                                                                                    </td><td>9.265992e-03                                                                                                                    </td><td>0.74525866                                                                                                                      </td><td>0.4411245                                                                                                                       </td></tr>\n",
       "\t<tr><th scope=row>bff540f2d9cf8c25ed1bc1a5061f023c</th><td>k__Bacteria; p__Firmicutes; c__Bacilli; o__Lactobacillales; f__Streptococcaceae; g__Streptococcus; s__                          </td><td>0.9625488                                                                                                                       </td><td>3.594724e-08                                                                                                                    </td><td>-0.11324465                                                                                                                     </td><td>3.769851e-09                                                                                                                    </td><td>-0.09252292                                                                                                                     </td><td>1.571701e-02                                                                                                                    </td><td>-0.032744507                                                                                                                    </td><td>0.66039078                                                                                                                      </td><td>-0.0035771570                                                                                                                   </td><td>0.0001175834                                                                                                                    </td><td>9.172049e-06                                                                                                                    </td><td>0.49385222                                                                                                                      </td><td>0.7226726                                                                                                                       </td></tr>\n",
       "\t<tr><th scope=row>e4d9332ac60f495af8c7147d1f9d959d</th><td>k__Bacteria; p__Firmicutes; c__Bacilli; o__Lactobacillales; f__Carnobacteriaceae; g__Granulicatella; s__                        </td><td>0.7974547                                                                                                                       </td><td>4.632924e-05                                                                                                                    </td><td>-0.06530718                                                                                                                     </td><td>1.958536e-05                                                                                                                    </td><td>-0.06185083                                                                                                                     </td><td>1.318382e-01                                                                                                                    </td><td>-0.012006914                                                                                                                    </td><td>0.08297990                                                                                                                      </td><td>-0.0284774580                                                                                                                   </td><td>0.0227695915                                                                                                                    </td><td>7.941863e-03                                                                                                                    </td><td>0.49385222                                                                                                                      </td><td>0.4411245                                                                                                                       </td></tr>\n",
       "\t<tr><th scope=row>9ecec48daa235631d504bef5f4155d5c</th><td>k__Bacteria; p__Bacteroidetes; c__Bacteroidia; o__Bacteroidales; f__Prevotellaceae; g__Prevotella; s__                          </td><td>0.9918301                                                                                                                       </td><td>4.893410e-03                                                                                                                    </td><td> 0.03709044                                                                                                                     </td><td>7.843814e-05                                                                                                                    </td><td> 0.06370982                                                                                                                     </td><td>8.854973e-01                                                                                                                    </td><td> 0.001698506                                                                                                                    </td><td>0.29687807                                                                                                                      </td><td>-0.0070650694                                                                                                                   </td><td>0.3325283411                                                                                                                    </td><td>1.908400e-02                                                                                                                    </td><td>0.92106442                                                                                                                      </td><td>0.6490472                                                                                                                       </td></tr>\n",
       "\t<tr><th scope=row>f224fb6c2c2fb01898aacebdfaefab14</th><td>k__Bacteria; p__Fusobacteria; c__Fusobacteriia; o__Fusobacteriales; f__Fusobacteriaceae; g__Fusobacterium; s__                  </td><td>0.9999908                                                                                                                       </td><td>5.766011e-04                                                                                                                    </td><td> 0.04315029                                                                                                                     </td><td>3.720286e-08                                                                                                                    </td><td> 0.05947123                                                                                                                     </td><td>4.157704e-05                                                                                                                    </td><td> 0.048349063                                                                                                                    </td><td>0.38243728                                                                                                                      </td><td> 0.0097048433                                                                                                                   </td><td>0.1047812242                                                                                                                    </td><td>4.525728e-05                                                                                                                    </td><td>0.09367307                                                                                                                      </td><td>0.7214296                                                                                                                       </td></tr>\n",
       "\t<tr><th scope=row>e9036e6df607f0873e7d14e3556c798e</th><td>k__Bacteria; p__Bacteroidetes; c__Bacteroidia; o__Bacteroidales; f__Porphyromonadaceae; g__Tannerella; s__                      </td><td>0.9999166                                                                                                                       </td><td>1.317974e-03                                                                                                                    </td><td> 0.04624798                                                                                                                     </td><td>7.431300e-06                                                                                                                    </td><td> 0.05920231                                                                                                                     </td><td>3.800046e-01                                                                                                                    </td><td> 0.005939788                                                                                                                    </td><td>0.86108226                                                                                                                      </td><td> 0.0020406619                                                                                                                   </td><td>0.2011805120                                                                                                                    </td><td>4.520088e-03                                                                                                                    </td><td>0.74525866                                                                                                                      </td><td>0.8934153                                                                                                                       </td></tr>\n",
       "\t<tr><th scope=row>94d1dbe74ad3e3adac152b88af1ac302</th><td>k__Bacteria; p__Firmicutes; c__Clostridia; o__Clostridiales; f__Lachnospiraceae                                                 </td><td>0.7303231                                                                                                                       </td><td>1.127466e-03                                                                                                                    </td><td> 0.02948543                                                                                                                     </td><td>2.553933e-05                                                                                                                    </td><td> 0.04062391                                                                                                                     </td><td>6.895543e-01                                                                                                                    </td><td> 0.003389548                                                                                                                    </td><td>0.74454275                                                                                                                      </td><td>-0.0026545003                                                                                                                   </td><td>0.1941022567                                                                                                                    </td><td>8.876742e-03                                                                                                                    </td><td>0.76947295                                                                                                                      </td><td>0.7983922                                                                                                                       </td></tr>\n",
       "</tbody>\n",
       "</table>\n"
      ],
      "text/latex": [
       "\\begin{tabular}{r|llllllllllllll}\n",
       "  & Taxon & Confidence & SubG\\_GLM\\_p & SubG\\_GLM\\_time\\_slope & SupG\\_GLM\\_p & SupG\\_GLM\\_time\\_slope & Sal\\_GLM\\_p & Sal\\_GLM\\_time\\_slope & T\\_GLM\\_p & T\\_GLM\\_time\\_slope & SubG\\_GLM\\_p\\_adj & SupG\\_GLM\\_p\\_adj & Sal\\_GLM\\_p\\_adj & T\\_GLM\\_p\\_adj\\\\\n",
       "\\hline\n",
       "\t7ee5ba33b78446d76ae3c85c71b2ab7b & k\\_\\_Bacteria; p\\_\\_Proteobacteria; c\\_\\_Gammaproteobacteria; o\\_\\_Pasteurellales; f\\_\\_Pasteurellaceae; g\\_\\_Haemophilus; s\\_\\_parainfluenzae & 0.9455938                                                                                                                                                    & 4.558339e-05                                                                                                                                                 & -0.06374823                                                                                                                                                  & 1.080883e-04                                                                                                                                                 & -0.06152382                                                                                                                                                  & 8.546539e-02                                                                                                                                                 & -0.017583809                                                                                                                                                 & 0.06705839                                                                                                                                                   & -0.0055935727                                                                                                                                                & 0.0227695915                                                                                                                                                 & 2.390716e-02                                                                                                                                                 & 0.49385222                                                                                                                                                   & 0.4411245                                                                                                                                                   \\\\\n",
       "\t204d401bcaf4b5cf7eb6f5e23dc91d1d & k\\_\\_Bacteria; p\\_\\_Firmicutes; c\\_\\_Clostridia; o\\_\\_Clostridiales; f\\_\\_Veillonellaceae; g\\_\\_Selenomonas; s\\_\\_                             & 0.9799151                                                                                                                                                    & 1.093740e-06                                                                                                                                                 &  0.08790868                                                                                                                                                  & 3.085039e-06                                                                                                                                                 &  0.07589714                                                                                                                                                  & 4.131483e-03                                                                                                                                                 &  0.030780544                                                                                                                                                 & 0.25320810                                                                                                                                                   & -0.0110506094                                                                                                                                                & 0.0017888124                                                                                                                                                 & 2.501967e-03                                                                                                                                                 & 0.49385222                                                                                                                                                   & 0.5747154                                                                                                                                                   \\\\\n",
       "\t1e6d25db0409017169c6b81dda0b1f38 & k\\_\\_Bacteria; p\\_\\_Bacteroidetes; c\\_\\_Bacteroidia; o\\_\\_Bacteroidales; f\\_\\_Porphyromonadaceae; g\\_\\_Porphyromonas; s\\_\\_                    & 0.9999989                                                                                                                                                    & 2.401606e-02                                                                                                                                                 &  0.03426557                                                                                                                                                  & 5.352735e-05                                                                                                                                                 &  0.05889005                                                                                                                                                  & 3.790379e-02                                                                                                                                                 &  0.023685285                                                                                                                                                 & 0.65857908                                                                                                                                                   &  0.0007279991                                                                                                                                                & 0.3325283411                                                                                                                                                 & 1.447023e-02                                                                                                                                                 & 0.49385222                                                                                                                                                   & 0.7214296                                                                                                                                                   \\\\\n",
       "\t4cfd0200a2b65d01301ea8fd5078e275 & k\\_\\_Bacteria; p\\_\\_Firmicutes; c\\_\\_Clostridia; o\\_\\_Clostridiales; f\\_\\_Lachnospiraceae                                                  & 0.8378514                                                                                                                                            & 4.360620e-02                                                                                                                                         &  0.02731785                                                                                                                                          & 3.046771e-05                                                                                                                                         &  0.04894622                                                                                                                                          & 4.034452e-01                                                                                                                                         & -0.007531064                                                                                                                                         & 0.01708089                                                                                                                                           & -0.0255959147                                                                                                                                        & 0.3325283411                                                                                                                                         & 9.265992e-03                                                                                                                                         & 0.74525866                                                                                                                                           & 0.4411245                                                                                                                                           \\\\\n",
       "\tbff540f2d9cf8c25ed1bc1a5061f023c & k\\_\\_Bacteria; p\\_\\_Firmicutes; c\\_\\_Bacilli; o\\_\\_Lactobacillales; f\\_\\_Streptococcaceae; g\\_\\_Streptococcus; s\\_\\_                           & 0.9625488                                                                                                                                                    & 3.594724e-08                                                                                                                                                 & -0.11324465                                                                                                                                                  & 3.769851e-09                                                                                                                                                 & -0.09252292                                                                                                                                                  & 1.571701e-02                                                                                                                                                 & -0.032744507                                                                                                                                                 & 0.66039078                                                                                                                                                   & -0.0035771570                                                                                                                                                & 0.0001175834                                                                                                                                                 & 9.172049e-06                                                                                                                                                 & 0.49385222                                                                                                                                                   & 0.7226726                                                                                                                                                   \\\\\n",
       "\te4d9332ac60f495af8c7147d1f9d959d & k\\_\\_Bacteria; p\\_\\_Firmicutes; c\\_\\_Bacilli; o\\_\\_Lactobacillales; f\\_\\_Carnobacteriaceae; g\\_\\_Granulicatella; s\\_\\_                         & 0.7974547                                                                                                                                                    & 4.632924e-05                                                                                                                                                 & -0.06530718                                                                                                                                                  & 1.958536e-05                                                                                                                                                 & -0.06185083                                                                                                                                                  & 1.318382e-01                                                                                                                                                 & -0.012006914                                                                                                                                                 & 0.08297990                                                                                                                                                   & -0.0284774580                                                                                                                                                & 0.0227695915                                                                                                                                                 & 7.941863e-03                                                                                                                                                 & 0.49385222                                                                                                                                                   & 0.4411245                                                                                                                                                   \\\\\n",
       "\t9ecec48daa235631d504bef5f4155d5c & k\\_\\_Bacteria; p\\_\\_Bacteroidetes; c\\_\\_Bacteroidia; o\\_\\_Bacteroidales; f\\_\\_Prevotellaceae; g\\_\\_Prevotella; s\\_\\_                           & 0.9918301                                                                                                                                                    & 4.893410e-03                                                                                                                                                 &  0.03709044                                                                                                                                                  & 7.843814e-05                                                                                                                                                 &  0.06370982                                                                                                                                                  & 8.854973e-01                                                                                                                                                 &  0.001698506                                                                                                                                                 & 0.29687807                                                                                                                                                   & -0.0070650694                                                                                                                                                & 0.3325283411                                                                                                                                                 & 1.908400e-02                                                                                                                                                 & 0.92106442                                                                                                                                                   & 0.6490472                                                                                                                                                   \\\\\n",
       "\tf224fb6c2c2fb01898aacebdfaefab14 & k\\_\\_Bacteria; p\\_\\_Fusobacteria; c\\_\\_Fusobacteriia; o\\_\\_Fusobacteriales; f\\_\\_Fusobacteriaceae; g\\_\\_Fusobacterium; s\\_\\_                   & 0.9999908                                                                                                                                                    & 5.766011e-04                                                                                                                                                 &  0.04315029                                                                                                                                                  & 3.720286e-08                                                                                                                                                 &  0.05947123                                                                                                                                                  & 4.157704e-05                                                                                                                                                 &  0.048349063                                                                                                                                                 & 0.38243728                                                                                                                                                   &  0.0097048433                                                                                                                                                & 0.1047812242                                                                                                                                                 & 4.525728e-05                                                                                                                                                 & 0.09367307                                                                                                                                                   & 0.7214296                                                                                                                                                   \\\\\n",
       "\te9036e6df607f0873e7d14e3556c798e & k\\_\\_Bacteria; p\\_\\_Bacteroidetes; c\\_\\_Bacteroidia; o\\_\\_Bacteroidales; f\\_\\_Porphyromonadaceae; g\\_\\_Tannerella; s\\_\\_                       & 0.9999166                                                                                                                                                    & 1.317974e-03                                                                                                                                                 &  0.04624798                                                                                                                                                  & 7.431300e-06                                                                                                                                                 &  0.05920231                                                                                                                                                  & 3.800046e-01                                                                                                                                                 &  0.005939788                                                                                                                                                 & 0.86108226                                                                                                                                                   &  0.0020406619                                                                                                                                                & 0.2011805120                                                                                                                                                 & 4.520088e-03                                                                                                                                                 & 0.74525866                                                                                                                                                   & 0.8934153                                                                                                                                                   \\\\\n",
       "\t94d1dbe74ad3e3adac152b88af1ac302 & k\\_\\_Bacteria; p\\_\\_Firmicutes; c\\_\\_Clostridia; o\\_\\_Clostridiales; f\\_\\_Lachnospiraceae                                                  & 0.7303231                                                                                                                                            & 1.127466e-03                                                                                                                                         &  0.02948543                                                                                                                                          & 2.553933e-05                                                                                                                                         &  0.04062391                                                                                                                                          & 6.895543e-01                                                                                                                                         &  0.003389548                                                                                                                                         & 0.74454275                                                                                                                                           & -0.0026545003                                                                                                                                        & 0.1941022567                                                                                                                                         & 8.876742e-03                                                                                                                                         & 0.76947295                                                                                                                                           & 0.7983922                                                                                                                                           \\\\\n",
       "\\end{tabular}\n"
      ],
      "text/markdown": [
       "\n",
       "| <!--/--> | Taxon | Confidence | SubG_GLM_p | SubG_GLM_time_slope | SupG_GLM_p | SupG_GLM_time_slope | Sal_GLM_p | Sal_GLM_time_slope | T_GLM_p | T_GLM_time_slope | SubG_GLM_p_adj | SupG_GLM_p_adj | Sal_GLM_p_adj | T_GLM_p_adj | \n",
       "|---|---|---|---|---|---|---|---|---|---|\n",
       "| 7ee5ba33b78446d76ae3c85c71b2ab7b | k__Bacteria; p__Proteobacteria; c__Gammaproteobacteria; o__Pasteurellales; f__Pasteurellaceae; g__Haemophilus; s__parainfluenzae | 0.9455938                                                                                                                        | 4.558339e-05                                                                                                                     | -0.06374823                                                                                                                      | 1.080883e-04                                                                                                                     | -0.06152382                                                                                                                      | 8.546539e-02                                                                                                                     | -0.017583809                                                                                                                     | 0.06705839                                                                                                                       | -0.0055935727                                                                                                                    | 0.0227695915                                                                                                                     | 2.390716e-02                                                                                                                     | 0.49385222                                                                                                                       | 0.4411245                                                                                                                        | \n",
       "| 204d401bcaf4b5cf7eb6f5e23dc91d1d | k__Bacteria; p__Firmicutes; c__Clostridia; o__Clostridiales; f__Veillonellaceae; g__Selenomonas; s__                             | 0.9799151                                                                                                                        | 1.093740e-06                                                                                                                     |  0.08790868                                                                                                                      | 3.085039e-06                                                                                                                     |  0.07589714                                                                                                                      | 4.131483e-03                                                                                                                     |  0.030780544                                                                                                                     | 0.25320810                                                                                                                       | -0.0110506094                                                                                                                    | 0.0017888124                                                                                                                     | 2.501967e-03                                                                                                                     | 0.49385222                                                                                                                       | 0.5747154                                                                                                                        | \n",
       "| 1e6d25db0409017169c6b81dda0b1f38 | k__Bacteria; p__Bacteroidetes; c__Bacteroidia; o__Bacteroidales; f__Porphyromonadaceae; g__Porphyromonas; s__                    | 0.9999989                                                                                                                        | 2.401606e-02                                                                                                                     |  0.03426557                                                                                                                      | 5.352735e-05                                                                                                                     |  0.05889005                                                                                                                      | 3.790379e-02                                                                                                                     |  0.023685285                                                                                                                     | 0.65857908                                                                                                                       |  0.0007279991                                                                                                                    | 0.3325283411                                                                                                                     | 1.447023e-02                                                                                                                     | 0.49385222                                                                                                                       | 0.7214296                                                                                                                        | \n",
       "| 4cfd0200a2b65d01301ea8fd5078e275 | k__Bacteria; p__Firmicutes; c__Clostridia; o__Clostridiales; f__Lachnospiraceae                                                  | 0.8378514                                                                                                                        | 4.360620e-02                                                                                                                     |  0.02731785                                                                                                                      | 3.046771e-05                                                                                                                     |  0.04894622                                                                                                                      | 4.034452e-01                                                                                                                     | -0.007531064                                                                                                                     | 0.01708089                                                                                                                       | -0.0255959147                                                                                                                    | 0.3325283411                                                                                                                     | 9.265992e-03                                                                                                                     | 0.74525866                                                                                                                       | 0.4411245                                                                                                                        | \n",
       "| bff540f2d9cf8c25ed1bc1a5061f023c | k__Bacteria; p__Firmicutes; c__Bacilli; o__Lactobacillales; f__Streptococcaceae; g__Streptococcus; s__                           | 0.9625488                                                                                                                        | 3.594724e-08                                                                                                                     | -0.11324465                                                                                                                      | 3.769851e-09                                                                                                                     | -0.09252292                                                                                                                      | 1.571701e-02                                                                                                                     | -0.032744507                                                                                                                     | 0.66039078                                                                                                                       | -0.0035771570                                                                                                                    | 0.0001175834                                                                                                                     | 9.172049e-06                                                                                                                     | 0.49385222                                                                                                                       | 0.7226726                                                                                                                        | \n",
       "| e4d9332ac60f495af8c7147d1f9d959d | k__Bacteria; p__Firmicutes; c__Bacilli; o__Lactobacillales; f__Carnobacteriaceae; g__Granulicatella; s__                         | 0.7974547                                                                                                                        | 4.632924e-05                                                                                                                     | -0.06530718                                                                                                                      | 1.958536e-05                                                                                                                     | -0.06185083                                                                                                                      | 1.318382e-01                                                                                                                     | -0.012006914                                                                                                                     | 0.08297990                                                                                                                       | -0.0284774580                                                                                                                    | 0.0227695915                                                                                                                     | 7.941863e-03                                                                                                                     | 0.49385222                                                                                                                       | 0.4411245                                                                                                                        | \n",
       "| 9ecec48daa235631d504bef5f4155d5c | k__Bacteria; p__Bacteroidetes; c__Bacteroidia; o__Bacteroidales; f__Prevotellaceae; g__Prevotella; s__                           | 0.9918301                                                                                                                        | 4.893410e-03                                                                                                                     |  0.03709044                                                                                                                      | 7.843814e-05                                                                                                                     |  0.06370982                                                                                                                      | 8.854973e-01                                                                                                                     |  0.001698506                                                                                                                     | 0.29687807                                                                                                                       | -0.0070650694                                                                                                                    | 0.3325283411                                                                                                                     | 1.908400e-02                                                                                                                     | 0.92106442                                                                                                                       | 0.6490472                                                                                                                        | \n",
       "| f224fb6c2c2fb01898aacebdfaefab14 | k__Bacteria; p__Fusobacteria; c__Fusobacteriia; o__Fusobacteriales; f__Fusobacteriaceae; g__Fusobacterium; s__                   | 0.9999908                                                                                                                        | 5.766011e-04                                                                                                                     |  0.04315029                                                                                                                      | 3.720286e-08                                                                                                                     |  0.05947123                                                                                                                      | 4.157704e-05                                                                                                                     |  0.048349063                                                                                                                     | 0.38243728                                                                                                                       |  0.0097048433                                                                                                                    | 0.1047812242                                                                                                                     | 4.525728e-05                                                                                                                     | 0.09367307                                                                                                                       | 0.7214296                                                                                                                        | \n",
       "| e9036e6df607f0873e7d14e3556c798e | k__Bacteria; p__Bacteroidetes; c__Bacteroidia; o__Bacteroidales; f__Porphyromonadaceae; g__Tannerella; s__                       | 0.9999166                                                                                                                        | 1.317974e-03                                                                                                                     |  0.04624798                                                                                                                      | 7.431300e-06                                                                                                                     |  0.05920231                                                                                                                      | 3.800046e-01                                                                                                                     |  0.005939788                                                                                                                     | 0.86108226                                                                                                                       |  0.0020406619                                                                                                                    | 0.2011805120                                                                                                                     | 4.520088e-03                                                                                                                     | 0.74525866                                                                                                                       | 0.8934153                                                                                                                        | \n",
       "| 94d1dbe74ad3e3adac152b88af1ac302 | k__Bacteria; p__Firmicutes; c__Clostridia; o__Clostridiales; f__Lachnospiraceae                                                  | 0.7303231                                                                                                                        | 1.127466e-03                                                                                                                     |  0.02948543                                                                                                                      | 2.553933e-05                                                                                                                     |  0.04062391                                                                                                                      | 6.895543e-01                                                                                                                     |  0.003389548                                                                                                                     | 0.74454275                                                                                                                       | -0.0026545003                                                                                                                    | 0.1941022567                                                                                                                     | 8.876742e-03                                                                                                                     | 0.76947295                                                                                                                       | 0.7983922                                                                                                                        | \n",
       "\n",
       "\n"
      ],
      "text/plain": [
       "                                 Taxon                                                                                                                           \n",
       "7ee5ba33b78446d76ae3c85c71b2ab7b k__Bacteria; p__Proteobacteria; c__Gammaproteobacteria; o__Pasteurellales; f__Pasteurellaceae; g__Haemophilus; s__parainfluenzae\n",
       "204d401bcaf4b5cf7eb6f5e23dc91d1d k__Bacteria; p__Firmicutes; c__Clostridia; o__Clostridiales; f__Veillonellaceae; g__Selenomonas; s__                            \n",
       "1e6d25db0409017169c6b81dda0b1f38 k__Bacteria; p__Bacteroidetes; c__Bacteroidia; o__Bacteroidales; f__Porphyromonadaceae; g__Porphyromonas; s__                   \n",
       "4cfd0200a2b65d01301ea8fd5078e275 k__Bacteria; p__Firmicutes; c__Clostridia; o__Clostridiales; f__Lachnospiraceae                                                 \n",
       "bff540f2d9cf8c25ed1bc1a5061f023c k__Bacteria; p__Firmicutes; c__Bacilli; o__Lactobacillales; f__Streptococcaceae; g__Streptococcus; s__                          \n",
       "e4d9332ac60f495af8c7147d1f9d959d k__Bacteria; p__Firmicutes; c__Bacilli; o__Lactobacillales; f__Carnobacteriaceae; g__Granulicatella; s__                        \n",
       "9ecec48daa235631d504bef5f4155d5c k__Bacteria; p__Bacteroidetes; c__Bacteroidia; o__Bacteroidales; f__Prevotellaceae; g__Prevotella; s__                          \n",
       "f224fb6c2c2fb01898aacebdfaefab14 k__Bacteria; p__Fusobacteria; c__Fusobacteriia; o__Fusobacteriales; f__Fusobacteriaceae; g__Fusobacterium; s__                  \n",
       "e9036e6df607f0873e7d14e3556c798e k__Bacteria; p__Bacteroidetes; c__Bacteroidia; o__Bacteroidales; f__Porphyromonadaceae; g__Tannerella; s__                      \n",
       "94d1dbe74ad3e3adac152b88af1ac302 k__Bacteria; p__Firmicutes; c__Clostridia; o__Clostridiales; f__Lachnospiraceae                                                 \n",
       "                                 Confidence SubG_GLM_p   SubG_GLM_time_slope\n",
       "7ee5ba33b78446d76ae3c85c71b2ab7b 0.9455938  4.558339e-05 -0.06374823        \n",
       "204d401bcaf4b5cf7eb6f5e23dc91d1d 0.9799151  1.093740e-06  0.08790868        \n",
       "1e6d25db0409017169c6b81dda0b1f38 0.9999989  2.401606e-02  0.03426557        \n",
       "4cfd0200a2b65d01301ea8fd5078e275 0.8378514  4.360620e-02  0.02731785        \n",
       "bff540f2d9cf8c25ed1bc1a5061f023c 0.9625488  3.594724e-08 -0.11324465        \n",
       "e4d9332ac60f495af8c7147d1f9d959d 0.7974547  4.632924e-05 -0.06530718        \n",
       "9ecec48daa235631d504bef5f4155d5c 0.9918301  4.893410e-03  0.03709044        \n",
       "f224fb6c2c2fb01898aacebdfaefab14 0.9999908  5.766011e-04  0.04315029        \n",
       "e9036e6df607f0873e7d14e3556c798e 0.9999166  1.317974e-03  0.04624798        \n",
       "94d1dbe74ad3e3adac152b88af1ac302 0.7303231  1.127466e-03  0.02948543        \n",
       "                                 SupG_GLM_p   SupG_GLM_time_slope Sal_GLM_p   \n",
       "7ee5ba33b78446d76ae3c85c71b2ab7b 1.080883e-04 -0.06152382         8.546539e-02\n",
       "204d401bcaf4b5cf7eb6f5e23dc91d1d 3.085039e-06  0.07589714         4.131483e-03\n",
       "1e6d25db0409017169c6b81dda0b1f38 5.352735e-05  0.05889005         3.790379e-02\n",
       "4cfd0200a2b65d01301ea8fd5078e275 3.046771e-05  0.04894622         4.034452e-01\n",
       "bff540f2d9cf8c25ed1bc1a5061f023c 3.769851e-09 -0.09252292         1.571701e-02\n",
       "e4d9332ac60f495af8c7147d1f9d959d 1.958536e-05 -0.06185083         1.318382e-01\n",
       "9ecec48daa235631d504bef5f4155d5c 7.843814e-05  0.06370982         8.854973e-01\n",
       "f224fb6c2c2fb01898aacebdfaefab14 3.720286e-08  0.05947123         4.157704e-05\n",
       "e9036e6df607f0873e7d14e3556c798e 7.431300e-06  0.05920231         3.800046e-01\n",
       "94d1dbe74ad3e3adac152b88af1ac302 2.553933e-05  0.04062391         6.895543e-01\n",
       "                                 Sal_GLM_time_slope T_GLM_p    T_GLM_time_slope\n",
       "7ee5ba33b78446d76ae3c85c71b2ab7b -0.017583809       0.06705839 -0.0055935727   \n",
       "204d401bcaf4b5cf7eb6f5e23dc91d1d  0.030780544       0.25320810 -0.0110506094   \n",
       "1e6d25db0409017169c6b81dda0b1f38  0.023685285       0.65857908  0.0007279991   \n",
       "4cfd0200a2b65d01301ea8fd5078e275 -0.007531064       0.01708089 -0.0255959147   \n",
       "bff540f2d9cf8c25ed1bc1a5061f023c -0.032744507       0.66039078 -0.0035771570   \n",
       "e4d9332ac60f495af8c7147d1f9d959d -0.012006914       0.08297990 -0.0284774580   \n",
       "9ecec48daa235631d504bef5f4155d5c  0.001698506       0.29687807 -0.0070650694   \n",
       "f224fb6c2c2fb01898aacebdfaefab14  0.048349063       0.38243728  0.0097048433   \n",
       "e9036e6df607f0873e7d14e3556c798e  0.005939788       0.86108226  0.0020406619   \n",
       "94d1dbe74ad3e3adac152b88af1ac302  0.003389548       0.74454275 -0.0026545003   \n",
       "                                 SubG_GLM_p_adj SupG_GLM_p_adj Sal_GLM_p_adj\n",
       "7ee5ba33b78446d76ae3c85c71b2ab7b 0.0227695915   2.390716e-02   0.49385222   \n",
       "204d401bcaf4b5cf7eb6f5e23dc91d1d 0.0017888124   2.501967e-03   0.49385222   \n",
       "1e6d25db0409017169c6b81dda0b1f38 0.3325283411   1.447023e-02   0.49385222   \n",
       "4cfd0200a2b65d01301ea8fd5078e275 0.3325283411   9.265992e-03   0.74525866   \n",
       "bff540f2d9cf8c25ed1bc1a5061f023c 0.0001175834   9.172049e-06   0.49385222   \n",
       "e4d9332ac60f495af8c7147d1f9d959d 0.0227695915   7.941863e-03   0.49385222   \n",
       "9ecec48daa235631d504bef5f4155d5c 0.3325283411   1.908400e-02   0.92106442   \n",
       "f224fb6c2c2fb01898aacebdfaefab14 0.1047812242   4.525728e-05   0.09367307   \n",
       "e9036e6df607f0873e7d14e3556c798e 0.2011805120   4.520088e-03   0.74525866   \n",
       "94d1dbe74ad3e3adac152b88af1ac302 0.1941022567   8.876742e-03   0.76947295   \n",
       "                                 T_GLM_p_adj\n",
       "7ee5ba33b78446d76ae3c85c71b2ab7b 0.4411245  \n",
       "204d401bcaf4b5cf7eb6f5e23dc91d1d 0.5747154  \n",
       "1e6d25db0409017169c6b81dda0b1f38 0.7214296  \n",
       "4cfd0200a2b65d01301ea8fd5078e275 0.4411245  \n",
       "bff540f2d9cf8c25ed1bc1a5061f023c 0.7226726  \n",
       "e4d9332ac60f495af8c7147d1f9d959d 0.4411245  \n",
       "9ecec48daa235631d504bef5f4155d5c 0.6490472  \n",
       "f224fb6c2c2fb01898aacebdfaefab14 0.7214296  \n",
       "e9036e6df607f0873e7d14e3556c798e 0.8934153  \n",
       "94d1dbe74ad3e3adac152b88af1ac302 0.7983922  "
      ]
     },
     "metadata": {},
     "output_type": "display_data"
    }
   ],
   "source": [
    "na.omit(taxonomy[taxonomy$SupG_GLM_p_adj<=0.05,])"
   ]
  },
  {
   "cell_type": "code",
   "execution_count": 8,
   "metadata": {},
   "outputs": [
    {
     "data": {
      "text/html": [
       "<table>\n",
       "<thead><tr><th scope=col>Taxon</th><th scope=col>Confidence</th><th scope=col>SubG_GLM_p</th><th scope=col>SubG_GLM_time_slope</th><th scope=col>SupG_GLM_p</th><th scope=col>SupG_GLM_time_slope</th><th scope=col>Sal_GLM_p</th><th scope=col>Sal_GLM_time_slope</th><th scope=col>T_GLM_p</th><th scope=col>T_GLM_time_slope</th><th scope=col>SubG_GLM_p_adj</th><th scope=col>SupG_GLM_p_adj</th><th scope=col>Sal_GLM_p_adj</th><th scope=col>T_GLM_p_adj</th></tr></thead>\n",
       "<tbody>\n",
       "</tbody>\n",
       "</table>\n"
      ],
      "text/latex": [
       "\\begin{tabular}{r|llllllllllllll}\n",
       " Taxon & Confidence & SubG\\_GLM\\_p & SubG\\_GLM\\_time\\_slope & SupG\\_GLM\\_p & SupG\\_GLM\\_time\\_slope & Sal\\_GLM\\_p & Sal\\_GLM\\_time\\_slope & T\\_GLM\\_p & T\\_GLM\\_time\\_slope & SubG\\_GLM\\_p\\_adj & SupG\\_GLM\\_p\\_adj & Sal\\_GLM\\_p\\_adj & T\\_GLM\\_p\\_adj\\\\\n",
       "\\hline\n",
       "\\end{tabular}\n"
      ],
      "text/markdown": [
       "\n",
       "Taxon | Confidence | SubG_GLM_p | SubG_GLM_time_slope | SupG_GLM_p | SupG_GLM_time_slope | Sal_GLM_p | Sal_GLM_time_slope | T_GLM_p | T_GLM_time_slope | SubG_GLM_p_adj | SupG_GLM_p_adj | Sal_GLM_p_adj | T_GLM_p_adj | \n",
       "||\n",
       "\n",
       "\n"
      ],
      "text/plain": [
       "     Taxon Confidence SubG_GLM_p SubG_GLM_time_slope SupG_GLM_p\n",
       "     SupG_GLM_time_slope Sal_GLM_p Sal_GLM_time_slope T_GLM_p T_GLM_time_slope\n",
       "     SubG_GLM_p_adj SupG_GLM_p_adj Sal_GLM_p_adj T_GLM_p_adj"
      ]
     },
     "metadata": {},
     "output_type": "display_data"
    }
   ],
   "source": [
    "na.omit(taxonomy[taxonomy$Sal_GLM_p_adj<=0.05,])"
   ]
  },
  {
   "cell_type": "code",
   "execution_count": 9,
   "metadata": {},
   "outputs": [
    {
     "data": {
      "text/html": [
       "<table>\n",
       "<thead><tr><th scope=col>Taxon</th><th scope=col>Confidence</th><th scope=col>SubG_GLM_p</th><th scope=col>SubG_GLM_time_slope</th><th scope=col>SupG_GLM_p</th><th scope=col>SupG_GLM_time_slope</th><th scope=col>Sal_GLM_p</th><th scope=col>Sal_GLM_time_slope</th><th scope=col>T_GLM_p</th><th scope=col>T_GLM_time_slope</th><th scope=col>SubG_GLM_p_adj</th><th scope=col>SupG_GLM_p_adj</th><th scope=col>Sal_GLM_p_adj</th><th scope=col>T_GLM_p_adj</th></tr></thead>\n",
       "<tbody>\n",
       "</tbody>\n",
       "</table>\n"
      ],
      "text/latex": [
       "\\begin{tabular}{r|llllllllllllll}\n",
       " Taxon & Confidence & SubG\\_GLM\\_p & SubG\\_GLM\\_time\\_slope & SupG\\_GLM\\_p & SupG\\_GLM\\_time\\_slope & Sal\\_GLM\\_p & Sal\\_GLM\\_time\\_slope & T\\_GLM\\_p & T\\_GLM\\_time\\_slope & SubG\\_GLM\\_p\\_adj & SupG\\_GLM\\_p\\_adj & Sal\\_GLM\\_p\\_adj & T\\_GLM\\_p\\_adj\\\\\n",
       "\\hline\n",
       "\\end{tabular}\n"
      ],
      "text/markdown": [
       "\n",
       "Taxon | Confidence | SubG_GLM_p | SubG_GLM_time_slope | SupG_GLM_p | SupG_GLM_time_slope | Sal_GLM_p | Sal_GLM_time_slope | T_GLM_p | T_GLM_time_slope | SubG_GLM_p_adj | SupG_GLM_p_adj | Sal_GLM_p_adj | T_GLM_p_adj | \n",
       "||\n",
       "\n",
       "\n"
      ],
      "text/plain": [
       "     Taxon Confidence SubG_GLM_p SubG_GLM_time_slope SupG_GLM_p\n",
       "     SupG_GLM_time_slope Sal_GLM_p Sal_GLM_time_slope T_GLM_p T_GLM_time_slope\n",
       "     SubG_GLM_p_adj SupG_GLM_p_adj Sal_GLM_p_adj T_GLM_p_adj"
      ]
     },
     "metadata": {},
     "output_type": "display_data"
    }
   ],
   "source": [
    "na.omit(taxonomy[taxonomy$T_GLM_p_adj<=0.05,])"
   ]
  },
  {
   "cell_type": "code",
   "execution_count": 47,
   "metadata": {
    "scrolled": false
   },
   "outputs": [
    {
     "name": "stderr",
     "output_type": "stream",
     "text": [
      "Scale for 'fill' is already present. Adding another scale for 'fill', which\n",
      "will replace the existing scale.\n",
      "Warning message:\n",
      "“Removed 549 rows containing missing values (geom_point_g_gtree).”"
     ]
    },
    {
     "data": {},
     "metadata": {},
     "output_type": "display_data"
    },
    {
     "data": {
      "text/html": [
       "<strong>png:</strong> 2"
      ],
      "text/latex": [
       "\\textbf{png:} 2"
      ],
      "text/markdown": [
       "**png:** 2"
      ],
      "text/plain": [
       "png \n",
       "  2 "
      ]
     },
     "metadata": {},
     "output_type": "display_data"
    }
   ],
   "source": [
    "options(repr.plot.height=65, repr.plot.width=15)\n",
    "pdf(\"supp_family_plots/Lachnospiraceae.pdf\", height=65, width=15)\n",
    "p<-plot_taxon_tree(\"Lachnospiraceae\", layout='rectangular', ts_scale_factor=5)\n",
    "p\n",
    "dev.off()"
   ]
  },
  {
   "cell_type": "code",
   "execution_count": 48,
   "metadata": {
    "scrolled": false
   },
   "outputs": [
    {
     "name": "stderr",
     "output_type": "stream",
     "text": [
      "Scale for 'fill' is already present. Adding another scale for 'fill', which\n",
      "will replace the existing scale.\n",
      "Warning message:\n",
      "“Removed 223 rows containing missing values (geom_point_g_gtree).”"
     ]
    },
    {
     "data": {},
     "metadata": {},
     "output_type": "display_data"
    },
    {
     "data": {
      "text/html": [
       "<strong>png:</strong> 2"
      ],
      "text/latex": [
       "\\textbf{png:} 2"
      ],
      "text/markdown": [
       "**png:** 2"
      ],
      "text/plain": [
       "png \n",
       "  2 "
      ]
     },
     "metadata": {},
     "output_type": "display_data"
    }
   ],
   "source": [
    "options(repr.plot.height=35, repr.plot.width=15)\n",
    "pdf(\"supp_family_plots/Pasteurellaceae.pdf\", height=35, width=15)\n",
    "p<-plot_taxon_tree(\"Pasteurellaceae\", layout='rectangular', ts_scale_factor = 80, heatmap_offset = 0.3)\n",
    "p\n",
    "dev.off()"
   ]
  },
  {
   "cell_type": "code",
   "execution_count": 49,
   "metadata": {
    "scrolled": false
   },
   "outputs": [
    {
     "name": "stderr",
     "output_type": "stream",
     "text": [
      "Scale for 'fill' is already present. Adding another scale for 'fill', which\n",
      "will replace the existing scale.\n",
      "Warning message:\n",
      "“Removed 1081 rows containing missing values (geom_point_g_gtree).”"
     ]
    },
    {
     "data": {},
     "metadata": {},
     "output_type": "display_data"
    },
    {
     "data": {
      "text/html": [
       "<strong>png:</strong> 2"
      ],
      "text/latex": [
       "\\textbf{png:} 2"
      ],
      "text/markdown": [
       "**png:** 2"
      ],
      "text/plain": [
       "png \n",
       "  2 "
      ]
     },
     "metadata": {},
     "output_type": "display_data"
    }
   ],
   "source": [
    "options(repr.plot.height=135, repr.plot.width=15)\n",
    "pdf(\"supp_family_plots/Prevotellaceae.pdf\", height=135, width=15)\n",
    "p<-plot_taxon_tree(\"Prevotellaceae\", layout='rectangular', heatmap_offset = 0.3, ts_scale_factor = 5)\n",
    "p\n",
    "dev.off()"
   ]
  },
  {
   "cell_type": "code",
   "execution_count": 50,
   "metadata": {
    "scrolled": false
   },
   "outputs": [
    {
     "name": "stderr",
     "output_type": "stream",
     "text": [
      "Scale for 'fill' is already present. Adding another scale for 'fill', which\n",
      "will replace the existing scale.\n",
      "Warning message:\n",
      "“Removed 208 rows containing missing values (geom_point_g_gtree).”"
     ]
    },
    {
     "data": {},
     "metadata": {},
     "output_type": "display_data"
    },
    {
     "data": {
      "text/html": [
       "<strong>png:</strong> 2"
      ],
      "text/latex": [
       "\\textbf{png:} 2"
      ],
      "text/markdown": [
       "**png:** 2"
      ],
      "text/plain": [
       "png \n",
       "  2 "
      ]
     },
     "metadata": {},
     "output_type": "display_data"
    }
   ],
   "source": [
    "options(repr.plot.height=30, repr.plot.width=15)\n",
    "pdf(\"supp_family_plots/Actinomycetaceae.pdf\", height=30, width=15)\n",
    "p<-plot_taxon_tree(\"Actinomycetaceae\", layout='rectangular', ts_scale_factor = 50)\n",
    "p\n",
    "dev.off()"
   ]
  },
  {
   "cell_type": "code",
   "execution_count": 51,
   "metadata": {
    "scrolled": false
   },
   "outputs": [
    {
     "name": "stderr",
     "output_type": "stream",
     "text": [
      "Scale for 'fill' is already present. Adding another scale for 'fill', which\n",
      "will replace the existing scale.\n",
      "Warning message:\n",
      "“Removed 508 rows containing missing values (geom_point_g_gtree).”"
     ]
    },
    {
     "data": {},
     "metadata": {},
     "output_type": "display_data"
    },
    {
     "data": {
      "text/html": [
       "<strong>png:</strong> 2"
      ],
      "text/latex": [
       "\\textbf{png:} 2"
      ],
      "text/markdown": [
       "**png:** 2"
      ],
      "text/plain": [
       "png \n",
       "  2 "
      ]
     },
     "metadata": {},
     "output_type": "display_data"
    }
   ],
   "source": [
    "options(repr.plot.height=65, repr.plot.width=15)\n",
    "pdf(\"supp_family_plots/Veillonellaceae.pdf\", height=65, width=15)\n",
    "p<-plot_taxon_tree(\"Veillonellaceae\", layout='rectangular', ts_scale_factor = 3)\n",
    "p\n",
    "dev.off()"
   ]
  },
  {
   "cell_type": "code",
   "execution_count": 52,
   "metadata": {
    "scrolled": false
   },
   "outputs": [
    {
     "name": "stderr",
     "output_type": "stream",
     "text": [
      "Scale for 'fill' is already present. Adding another scale for 'fill', which\n",
      "will replace the existing scale.\n",
      "Warning message:\n",
      "“Removed 425 rows containing missing values (geom_point_g_gtree).”"
     ]
    },
    {
     "data": {},
     "metadata": {},
     "output_type": "display_data"
    },
    {
     "data": {
      "text/html": [
       "<strong>png:</strong> 2"
      ],
      "text/latex": [
       "\\textbf{png:} 2"
      ],
      "text/markdown": [
       "**png:** 2"
      ],
      "text/plain": [
       "png \n",
       "  2 "
      ]
     },
     "metadata": {},
     "output_type": "display_data"
    }
   ],
   "source": [
    "options(repr.plot.height=65, repr.plot.width=15)\n",
    "pdf(\"supp_family_plots/Fusobacteriaceae.pdf\", height=65, width=15)\n",
    "p<-plot_taxon_tree(\"Fusobacteriaceae\", layout='rectangular', ts_scale_factor=4)\n",
    "p\n",
    "dev.off()"
   ]
  },
  {
   "cell_type": "code",
   "execution_count": 53,
   "metadata": {
    "scrolled": false
   },
   "outputs": [
    {
     "name": "stderr",
     "output_type": "stream",
     "text": [
      "Scale for 'fill' is already present. Adding another scale for 'fill', which\n",
      "will replace the existing scale.\n",
      "Warning message:\n",
      "“Removed 432 rows containing missing values (geom_point_g_gtree).”"
     ]
    },
    {
     "data": {},
     "metadata": {},
     "output_type": "display_data"
    },
    {
     "data": {
      "text/html": [
       "<strong>png:</strong> 2"
      ],
      "text/latex": [
       "\\textbf{png:} 2"
      ],
      "text/markdown": [
       "**png:** 2"
      ],
      "text/plain": [
       "png \n",
       "  2 "
      ]
     },
     "metadata": {},
     "output_type": "display_data"
    }
   ],
   "source": [
    "options(repr.plot.height=65, repr.plot.width=15)\n",
    "pdf(\"supp_family_plots/Leptotrichiaceae.pdf\", height=65, width=15)\n",
    "p<-plot_taxon_tree(\"Leptotrichiaceae\", layout='rectangular', ts_scale_factor = 3)\n",
    "p\n",
    "dev.off()"
   ]
  },
  {
   "cell_type": "code",
   "execution_count": 54,
   "metadata": {
    "scrolled": false
   },
   "outputs": [
    {
     "name": "stderr",
     "output_type": "stream",
     "text": [
      "Scale for 'fill' is already present. Adding another scale for 'fill', which\n",
      "will replace the existing scale.\n",
      "Warning message:\n",
      "“Removed 405 rows containing missing values (geom_point_g_gtree).”"
     ]
    },
    {
     "data": {},
     "metadata": {},
     "output_type": "display_data"
    },
    {
     "data": {
      "text/html": [
       "<strong>png:</strong> 2"
      ],
      "text/latex": [
       "\\textbf{png:} 2"
      ],
      "text/markdown": [
       "**png:** 2"
      ],
      "text/plain": [
       "png \n",
       "  2 "
      ]
     },
     "metadata": {},
     "output_type": "display_data"
    }
   ],
   "source": [
    "options(repr.plot.height=65, repr.plot.width=15)\n",
    "pdf(\"supp_family_plots/Flavobacteriaceae.pdf\", height=65, width=15)\n",
    "p<-plot_taxon_tree(\"Flavobacteriaceae\", layout='rectangular', heatmap_offset = 0.3, ts_scale_factor = 3)\n",
    "p\n",
    "dev.off()"
   ]
  },
  {
   "cell_type": "code",
   "execution_count": 55,
   "metadata": {
    "scrolled": false
   },
   "outputs": [
    {
     "name": "stderr",
     "output_type": "stream",
     "text": [
      "Scale for 'fill' is already present. Adding another scale for 'fill', which\n",
      "will replace the existing scale.\n",
      "Warning message:\n",
      "“Removed 326 rows containing missing values (geom_point_g_gtree).”"
     ]
    },
    {
     "data": {},
     "metadata": {},
     "output_type": "display_data"
    },
    {
     "data": {
      "text/html": [
       "<strong>png:</strong> 2"
      ],
      "text/latex": [
       "\\textbf{png:} 2"
      ],
      "text/markdown": [
       "**png:** 2"
      ],
      "text/plain": [
       "png \n",
       "  2 "
      ]
     },
     "metadata": {},
     "output_type": "display_data"
    }
   ],
   "source": [
    "options(repr.plot.height=65, repr.plot.width=15)\n",
    "pdf(\"supp_family_plots/Porphyromonadaceae.pdf\", height=65, width=15)\n",
    "p<-plot_taxon_tree(\"Porphyromonadaceae\", layout='rectangular', ts_scale_factor = 2, heatmap_offset = 0.3)\n",
    "p\n",
    "dev.off()"
   ]
  },
  {
   "cell_type": "code",
   "execution_count": 56,
   "metadata": {
    "scrolled": false
   },
   "outputs": [
    {
     "name": "stderr",
     "output_type": "stream",
     "text": [
      "Scale for 'fill' is already present. Adding another scale for 'fill', which\n",
      "will replace the existing scale.\n",
      "Warning message:\n",
      "“Removed 308 rows containing missing values (geom_point_g_gtree).”"
     ]
    },
    {
     "data": {},
     "metadata": {},
     "output_type": "display_data"
    },
    {
     "data": {
      "text/html": [
       "<strong>png:</strong> 2"
      ],
      "text/latex": [
       "\\textbf{png:} 2"
      ],
      "text/markdown": [
       "**png:** 2"
      ],
      "text/plain": [
       "png \n",
       "  2 "
      ]
     },
     "metadata": {},
     "output_type": "display_data"
    }
   ],
   "source": [
    "options(repr.plot.height=65, repr.plot.width=15)\n",
    "pdf(\"supp_family_plots/Spirochaetaceae.pdf\", height=65, width=15)\n",
    "p<-plot_taxon_tree(\"Spirochaetaceae\", layout='rectangular', ts_scale_factor = 0.5, heatmap_offset = 0.2)\n",
    "p\n",
    "dev.off()"
   ]
  },
  {
   "cell_type": "code",
   "execution_count": 57,
   "metadata": {
    "scrolled": false
   },
   "outputs": [
    {
     "name": "stderr",
     "output_type": "stream",
     "text": [
      "Scale for 'fill' is already present. Adding another scale for 'fill', which\n",
      "will replace the existing scale.\n",
      "Warning message:\n",
      "“Removed 342 rows containing missing values (geom_point_g_gtree).”"
     ]
    },
    {
     "data": {},
     "metadata": {},
     "output_type": "display_data"
    },
    {
     "data": {
      "text/html": [
       "<strong>png:</strong> 2"
      ],
      "text/latex": [
       "\\textbf{png:} 2"
      ],
      "text/markdown": [
       "**png:** 2"
      ],
      "text/plain": [
       "png \n",
       "  2 "
      ]
     },
     "metadata": {},
     "output_type": "display_data"
    }
   ],
   "source": [
    "options(repr.plot.height=65, repr.plot.width=15)\n",
    "pdf(\"supp_family_plots/Streptococcaceae.pdf\", height=65, width=15)\n",
    "p<-plot_taxon_tree(\"Streptococcaceae\", layout='rectangular', heatmap_offset = 0.25, ts_scale_factor = 2)\n",
    "p\n",
    "dev.off()"
   ]
  },
  {
   "cell_type": "code",
   "execution_count": 58,
   "metadata": {
    "scrolled": false
   },
   "outputs": [
    {
     "name": "stderr",
     "output_type": "stream",
     "text": [
      "Scale for 'fill' is already present. Adding another scale for 'fill', which\n",
      "will replace the existing scale.\n",
      "Warning message:\n",
      "“Removed 316 rows containing missing values (geom_point_g_gtree).”"
     ]
    },
    {
     "data": {},
     "metadata": {},
     "output_type": "display_data"
    },
    {
     "data": {
      "text/html": [
       "<strong>png:</strong> 2"
      ],
      "text/latex": [
       "\\textbf{png:} 2"
      ],
      "text/markdown": [
       "**png:** 2"
      ],
      "text/plain": [
       "png \n",
       "  2 "
      ]
     },
     "metadata": {},
     "output_type": "display_data"
    }
   ],
   "source": [
    "options(repr.plot.height=65, repr.plot.width=15)\n",
    "pdf(\"supp_family_plots/Neisseriaceae.pdf\", height=65, width=15)\n",
    "p<-plot_taxon_tree(\"Neisseriaceae\", layout='rectangular', hilight_width = 0.1, exclude_taxon = \"Snodgrassella\")\n",
    "p\n",
    "dev.off()"
   ]
  },
  {
   "cell_type": "code",
   "execution_count": 59,
   "metadata": {},
   "outputs": [
    {
     "name": "stderr",
     "output_type": "stream",
     "text": [
      "Scale for 'fill' is already present. Adding another scale for 'fill', which\n",
      "will replace the existing scale.\n",
      "Warning message:\n",
      "“Removed 29 rows containing missing values (geom_point_g_gtree).”"
     ]
    },
    {
     "data": {},
     "metadata": {},
     "output_type": "display_data"
    },
    {
     "data": {
      "text/html": [
       "<strong>png:</strong> 2"
      ],
      "text/latex": [
       "\\textbf{png:} 2"
      ],
      "text/markdown": [
       "**png:** 2"
      ],
      "text/plain": [
       "png \n",
       "  2 "
      ]
     },
     "metadata": {},
     "output_type": "display_data"
    }
   ],
   "source": [
    "options(repr.plot.height=5, repr.plot.width=15)\n",
    "pdf(\"supp_family_plots/Burkholderiaceae.pdf\", height=5, width=15)\n",
    "p<-plot_taxon_tree(\"Burkholderiaceae\", layout='rectangular', ts_scale_factor = 25)\n",
    "p\n",
    "dev.off()"
   ]
  },
  {
   "cell_type": "code",
   "execution_count": 60,
   "metadata": {},
   "outputs": [
    {
     "name": "stderr",
     "output_type": "stream",
     "text": [
      "Scale for 'fill' is already present. Adding another scale for 'fill', which\n",
      "will replace the existing scale.\n",
      "Warning message:\n",
      "“Removed 10 rows containing missing values (geom_point_g_gtree).”"
     ]
    },
    {
     "data": {},
     "metadata": {},
     "output_type": "display_data"
    },
    {
     "data": {
      "text/html": [
       "<strong>png:</strong> 2"
      ],
      "text/latex": [
       "\\textbf{png:} 2"
      ],
      "text/markdown": [
       "**png:** 2"
      ],
      "text/plain": [
       "png \n",
       "  2 "
      ]
     },
     "metadata": {},
     "output_type": "display_data"
    }
   ],
   "source": [
    "options(repr.plot.height=5, repr.plot.width=15)\n",
    "pdf(\"supp_family_plots/Carnobacteriaceae.pdf\", height=5, width=15)\n",
    "p<-plot_taxon_tree(\"Carnobacteriaceae\", layout='rectangular', ts_scale_factor = 40, heatmap_offset = 0.005, hilight_width = 0.002)\n",
    "p\n",
    "dev.off()"
   ]
  },
  {
   "cell_type": "code",
   "execution_count": 61,
   "metadata": {},
   "outputs": [
    {
     "name": "stderr",
     "output_type": "stream",
     "text": [
      "Scale for 'fill' is already present. Adding another scale for 'fill', which\n",
      "will replace the existing scale.\n",
      "Warning message:\n",
      "“Removed 100 rows containing missing values (geom_point_g_gtree).”"
     ]
    },
    {
     "data": {},
     "metadata": {},
     "output_type": "display_data"
    },
    {
     "data": {
      "text/html": [
       "<strong>png:</strong> 2"
      ],
      "text/latex": [
       "\\textbf{png:} 2"
      ],
      "text/markdown": [
       "**png:** 2"
      ],
      "text/plain": [
       "png \n",
       "  2 "
      ]
     },
     "metadata": {},
     "output_type": "display_data"
    }
   ],
   "source": [
    "options(repr.plot.height=20, repr.plot.width=15)\n",
    "pdf(\"supp_family_plots/Comamonadaceae.pdf\", height=20, width=15)\n",
    "p<-plot_taxon_tree(\"Comamonadaceae\", layout='rectangular', ts_scale_factor = 0.6, heatmap_offset = 0.2)\n",
    "p\n",
    "dev.off()"
   ]
  },
  {
   "cell_type": "code",
   "execution_count": 62,
   "metadata": {},
   "outputs": [
    {
     "name": "stderr",
     "output_type": "stream",
     "text": [
      "Scale for 'fill' is already present. Adding another scale for 'fill', which\n",
      "will replace the existing scale.\n",
      "Warning message:\n",
      "“Removed 49 rows containing missing values (geom_point_g_gtree).”"
     ]
    },
    {
     "data": {},
     "metadata": {},
     "output_type": "display_data"
    },
    {
     "data": {
      "text/html": [
       "<strong>png:</strong> 2"
      ],
      "text/latex": [
       "\\textbf{png:} 2"
      ],
      "text/markdown": [
       "**png:** 2"
      ],
      "text/plain": [
       "png \n",
       "  2 "
      ]
     },
     "metadata": {},
     "output_type": "display_data"
    }
   ],
   "source": [
    "options(repr.plot.height=10, repr.plot.width=15)\n",
    "pdf(\"supp_family_plots/Corynebacteriaceae.pdf\", height=10, width=15)\n",
    "p<-plot_taxon_tree(\"Corynebacteriaceae\", layout='rectangular', ts_scale_factor = 50)\n",
    "p\n",
    "dev.off()"
   ]
  },
  {
   "cell_type": "code",
   "execution_count": 63,
   "metadata": {
    "scrolled": false
   },
   "outputs": [
    {
     "name": "stderr",
     "output_type": "stream",
     "text": [
      "Scale for 'fill' is already present. Adding another scale for 'fill', which\n",
      "will replace the existing scale.\n",
      "Warning message:\n",
      "“Removed 308 rows containing missing values (geom_point_g_gtree).”"
     ]
    },
    {
     "data": {},
     "metadata": {},
     "output_type": "display_data"
    },
    {
     "data": {
      "text/html": [
       "<strong>png:</strong> 2"
      ],
      "text/latex": [
       "\\textbf{png:} 2"
      ],
      "text/markdown": [
       "**png:** 2"
      ],
      "text/plain": [
       "png \n",
       "  2 "
      ]
     },
     "metadata": {},
     "output_type": "display_data"
    }
   ],
   "source": [
    "options(repr.plot.height=45, repr.plot.width=15)\n",
    "pdf(\"supp_family_plots/Paraprevotellaceae.pdf\", height=45, width=15)\n",
    "p<-plot_taxon_tree(\"Paraprevotellaceae\", layout='rectangular', heatmap_offset = 0.2, ts_scale_factor = 1.5)\n",
    "p\n",
    "dev.off()"
   ]
  },
  {
   "cell_type": "code",
   "execution_count": 64,
   "metadata": {},
   "outputs": [
    {
     "name": "stderr",
     "output_type": "stream",
     "text": [
      "Scale for 'fill' is already present. Adding another scale for 'fill', which\n",
      "will replace the existing scale.\n",
      "Warning message:\n",
      "“Removed 92 rows containing missing values (geom_point_g_gtree).”"
     ]
    },
    {
     "data": {},
     "metadata": {},
     "output_type": "display_data"
    },
    {
     "data": {
      "text/html": [
       "<strong>png:</strong> 2"
      ],
      "text/latex": [
       "\\textbf{png:} 2"
      ],
      "text/markdown": [
       "**png:** 2"
      ],
      "text/plain": [
       "png \n",
       "  2 "
      ]
     },
     "metadata": {},
     "output_type": "display_data"
    }
   ],
   "source": [
    "options(repr.plot.height=15, repr.plot.width=15)\n",
    "pdf(\"supp_family_plots/Weeksellaceae.pdf\", height=15, width=15)\n",
    "p<-plot_taxon_tree(\"Weeksellaceae\", layout='rectangular', heatmap_offset = 0.2, ts_scale_factor = 20)\n",
    "p\n",
    "dev.off()"
   ]
  },
  {
   "cell_type": "code",
   "execution_count": 65,
   "metadata": {},
   "outputs": [
    {
     "name": "stderr",
     "output_type": "stream",
     "text": [
      "Scale for 'fill' is already present. Adding another scale for 'fill', which\n",
      "will replace the existing scale.\n",
      "Warning message:\n",
      "“Removed 10 rows containing missing values (geom_point_g_gtree).”"
     ]
    },
    {
     "data": {},
     "metadata": {},
     "output_type": "display_data"
    },
    {
     "data": {
      "text/html": [
       "<strong>png:</strong> 2"
      ],
      "text/latex": [
       "\\textbf{png:} 2"
      ],
      "text/markdown": [
       "**png:** 2"
      ],
      "text/plain": [
       "png \n",
       "  2 "
      ]
     },
     "metadata": {},
     "output_type": "display_data"
    }
   ],
   "source": [
    "options(repr.plot.height=5, repr.plot.width=15)\n",
    "pdf(\"supp_family_plots/Aerococcaceae.pdf\", height=5, width=15)\n",
    "p<-plot_taxon_tree(\"Aerococcaceae\", layout='rectangular', heatmap_offset = 0.15, ts_scale_factor = 10)\n",
    "p\n",
    "dev.off()"
   ]
  },
  {
   "cell_type": "code",
   "execution_count": 66,
   "metadata": {},
   "outputs": [
    {
     "name": "stderr",
     "output_type": "stream",
     "text": [
      "Scale for 'fill' is already present. Adding another scale for 'fill', which\n",
      "will replace the existing scale.\n",
      "Warning message:\n",
      "“Removed 37 rows containing missing values (geom_point_g_gtree).”"
     ]
    },
    {
     "data": {},
     "metadata": {},
     "output_type": "display_data"
    },
    {
     "data": {
      "text/html": [
       "<strong>png:</strong> 2"
      ],
      "text/latex": [
       "\\textbf{png:} 2"
      ],
      "text/markdown": [
       "**png:** 2"
      ],
      "text/plain": [
       "png \n",
       "  2 "
      ]
     },
     "metadata": {},
     "output_type": "display_data"
    }
   ],
   "source": [
    "options(repr.plot.height=5, repr.plot.width=15)\n",
    "pdf(\"supp_family_plots/Coriobacteriaceae.pdf\", height=5, width=15)\n",
    "p<-plot_taxon_tree(\"Coriobacteriaceae\", layout='rectangular', heatmap_offset = 0.1, ts_scale_factor = 12)\n",
    "p\n",
    "dev.off()"
   ]
  },
  {
   "cell_type": "code",
   "execution_count": 67,
   "metadata": {},
   "outputs": [
    {
     "name": "stderr",
     "output_type": "stream",
     "text": [
      "Scale for 'fill' is already present. Adding another scale for 'fill', which\n",
      "will replace the existing scale.\n",
      "Warning message:\n",
      "“Removed 40 rows containing missing values (geom_point_g_gtree).”"
     ]
    },
    {
     "data": {},
     "metadata": {},
     "output_type": "display_data"
    },
    {
     "data": {
      "text/html": [
       "<strong>png:</strong> 2"
      ],
      "text/latex": [
       "\\textbf{png:} 2"
      ],
      "text/markdown": [
       "**png:** 2"
      ],
      "text/plain": [
       "png \n",
       "  2 "
      ]
     },
     "metadata": {},
     "output_type": "display_data"
    }
   ],
   "source": [
    "options(repr.plot.height=8, repr.plot.width=15)\n",
    "pdf(\"supp_family_plots/Peptostreptococcaceae.pdf\", height=8, width=15)\n",
    "p<-plot_taxon_tree(\"Peptostreptococcaceae\", layout='rectangular', heatmap_offset = 5, ts_scale_factor = 5, hilight_width = 1)\n",
    "p\n",
    "dev.off()"
   ]
  },
  {
   "cell_type": "code",
   "execution_count": 68,
   "metadata": {},
   "outputs": [
    {
     "name": "stderr",
     "output_type": "stream",
     "text": [
      "Scale for 'fill' is already present. Adding another scale for 'fill', which\n",
      "will replace the existing scale.\n",
      "Warning message:\n",
      "“Removed 27 rows containing missing values (geom_point_g_gtree).”"
     ]
    },
    {
     "data": {},
     "metadata": {},
     "output_type": "display_data"
    },
    {
     "data": {
      "text/html": [
       "<strong>png:</strong> 2"
      ],
      "text/latex": [
       "\\textbf{png:} 2"
      ],
      "text/markdown": [
       "**png:** 2"
      ],
      "text/plain": [
       "png \n",
       "  2 "
      ]
     },
     "metadata": {},
     "output_type": "display_data"
    }
   ],
   "source": [
    "options(repr.plot.height=8, repr.plot.width=15)\n",
    "pdf(\"supp_family_plots/Dethiosulfovibrionaceae.pdf\", height=8, width=15)\n",
    "p<-plot_taxon_tree(\"Dethiosulfovibrionaceae\", layout='rectangular', heatmap_offset = 0.05, ts_scale_factor = 1)\n",
    "p\n",
    "dev.off()"
   ]
  },
  {
   "cell_type": "code",
   "execution_count": 69,
   "metadata": {},
   "outputs": [
    {
     "name": "stderr",
     "output_type": "stream",
     "text": [
      "Scale for 'fill' is already present. Adding another scale for 'fill', which\n",
      "will replace the existing scale.\n",
      "Warning message:\n",
      "“Removed 60 rows containing missing values (geom_point_g_gtree).”"
     ]
    },
    {
     "data": {},
     "metadata": {},
     "output_type": "display_data"
    },
    {
     "data": {
      "text/html": [
       "<strong>png:</strong> 2"
      ],
      "text/latex": [
       "\\textbf{png:} 2"
      ],
      "text/markdown": [
       "**png:** 2"
      ],
      "text/plain": [
       "png \n",
       "  2 "
      ]
     },
     "metadata": {},
     "output_type": "display_data"
    }
   ],
   "source": [
    "options(repr.plot.height=8, repr.plot.width=15)\n",
    "pdf(\"supp_family_plots/Campylobacteraceae.pdf\", height=8, width=15)\n",
    "p<-plot_taxon_tree(\"Campylobacteraceae\", layout='rectangular', heatmap_offset = 0.2, ts_scale_factor = 1)\n",
    "p\n",
    "dev.off()"
   ]
  },
  {
   "cell_type": "code",
   "execution_count": 70,
   "metadata": {},
   "outputs": [
    {
     "name": "stderr",
     "output_type": "stream",
     "text": [
      "Scale for 'fill' is already present. Adding another scale for 'fill', which\n",
      "will replace the existing scale.\n",
      "Warning message:\n",
      "“Removed 18 rows containing missing values (geom_point_g_gtree).”"
     ]
    },
    {
     "data": {},
     "metadata": {},
     "output_type": "display_data"
    },
    {
     "data": {
      "text/html": [
       "<strong>png:</strong> 2"
      ],
      "text/latex": [
       "\\textbf{png:} 2"
      ],
      "text/markdown": [
       "**png:** 2"
      ],
      "text/plain": [
       "png \n",
       "  2 "
      ]
     },
     "metadata": {},
     "output_type": "display_data"
    }
   ],
   "source": [
    "options(repr.plot.height=4, repr.plot.width=15)\n",
    "pdf(\"supp_family_plots/Enterobacteriaceae.pdf\", height=4, width=15)\n",
    "p<-plot_taxon_tree(\"Enterobacteriaceae\", layout='rectangular', heatmap_offset = 0.07, ts_scale_factor = 4, hilight_width = 0.02)\n",
    "p\n",
    "dev.off()"
   ]
  },
  {
   "cell_type": "code",
   "execution_count": 71,
   "metadata": {},
   "outputs": [
    {
     "name": "stderr",
     "output_type": "stream",
     "text": [
      "Scale for 'fill' is already present. Adding another scale for 'fill', which\n",
      "will replace the existing scale.\n",
      "Warning message:\n",
      "“Removed 69 rows containing missing values (geom_point_g_gtree).”"
     ]
    },
    {
     "data": {},
     "metadata": {},
     "output_type": "display_data"
    },
    {
     "data": {
      "text/html": [
       "<strong>png:</strong> 2"
      ],
      "text/latex": [
       "\\textbf{png:} 2"
      ],
      "text/markdown": [
       "**png:** 2"
      ],
      "text/plain": [
       "png \n",
       "  2 "
      ]
     },
     "metadata": {},
     "output_type": "display_data"
    }
   ],
   "source": [
    "options(repr.plot.height=15, repr.plot.width=15)\n",
    "pdf(\"supp_family_plots/Mogibacteriaceae.pdf\", height=15, width=15)\n",
    "p<-plot_taxon_tree(\"Mogibacteriaceae\", layout='rectangular', heatmap_offset = 0.1, ts_scale_factor = 0.5, hilight_width = 0.04)\n",
    "p\n",
    "dev.off()"
   ]
  },
  {
   "cell_type": "code",
   "execution_count": 72,
   "metadata": {},
   "outputs": [
    {
     "name": "stderr",
     "output_type": "stream",
     "text": [
      "Scale for 'fill' is already present. Adding another scale for 'fill', which\n",
      "will replace the existing scale.\n",
      "Warning message:\n",
      "“Removed 20 rows containing missing values (geom_point_g_gtree).”"
     ]
    },
    {
     "data": {},
     "metadata": {},
     "output_type": "display_data"
    },
    {
     "data": {
      "text/html": [
       "<strong>png:</strong> 2"
      ],
      "text/latex": [
       "\\textbf{png:} 2"
      ],
      "text/markdown": [
       "**png:** 2"
      ],
      "text/plain": [
       "png \n",
       "  2 "
      ]
     },
     "metadata": {},
     "output_type": "display_data"
    }
   ],
   "source": [
    "options(repr.plot.height=4, repr.plot.width=15)\n",
    "pdf(\"supp_family_plots/Propionibacteriaceae.pdf\", height=4, width=15)\n",
    "p<-plot_taxon_tree(\"Propionibacteriaceae\", layout='rectangular', heatmap_offset = 0.07, ts_scale_factor = 4, hilight_width = 0.02)\n",
    "p\n",
    "dev.off()"
   ]
  },
  {
   "cell_type": "code",
   "execution_count": 73,
   "metadata": {},
   "outputs": [
    {
     "name": "stderr",
     "output_type": "stream",
     "text": [
      "Scale for 'fill' is already present. Adding another scale for 'fill', which\n",
      "will replace the existing scale.\n",
      "Warning message:\n",
      "“Removed 55 rows containing missing values (geom_point_g_gtree).”"
     ]
    },
    {
     "data": {},
     "metadata": {},
     "output_type": "display_data"
    },
    {
     "data": {
      "text/html": [
       "<strong>png:</strong> 2"
      ],
      "text/latex": [
       "\\textbf{png:} 2"
      ],
      "text/markdown": [
       "**png:** 2"
      ],
      "text/plain": [
       "png \n",
       "  2 "
      ]
     },
     "metadata": {},
     "output_type": "display_data"
    }
   ],
   "source": [
    "options(repr.plot.height=10, repr.plot.width=15)\n",
    "pdf(\"supp_family_plots/Rhodocyclaceae.pdf\", height=10, width=15)\n",
    "p<-plot_taxon_tree(\"Rhodocyclaceae\", layout='rectangular', heatmap_offset = 0.15, ts_scale_factor = 0.75, hilight_width = 0.02)\n",
    "p\n",
    "dev.off()"
   ]
  },
  {
   "cell_type": "code",
   "execution_count": 74,
   "metadata": {},
   "outputs": [
    {
     "name": "stderr",
     "output_type": "stream",
     "text": [
      "Scale for 'fill' is already present. Adding another scale for 'fill', which\n",
      "will replace the existing scale.\n",
      "Warning message:\n",
      "“Removed 10 rows containing missing values (geom_point_g_gtree).”"
     ]
    },
    {
     "data": {},
     "metadata": {},
     "output_type": "display_data"
    },
    {
     "data": {
      "text/html": [
       "<strong>png:</strong> 2"
      ],
      "text/latex": [
       "\\textbf{png:} 2"
      ],
      "text/markdown": [
       "**png:** 2"
      ],
      "text/plain": [
       "png \n",
       "  2 "
      ]
     },
     "metadata": {},
     "output_type": "display_data"
    }
   ],
   "source": [
    "options(repr.plot.height=5, repr.plot.width=15)\n",
    "pdf(\"supp_family_plots/GN02.pdf\", height=5, width=15)\n",
    "p<-plot_taxon_tree(\"GN02\", layout='rectangular', heatmap_offset=0.01, ts_scale_factor = 30, hilight_width = 0.005)\n",
    "p\n",
    "dev.off()"
   ]
  },
  {
   "cell_type": "code",
   "execution_count": 75,
   "metadata": {},
   "outputs": [
    {
     "name": "stderr",
     "output_type": "stream",
     "text": [
      "Scale for 'fill' is already present. Adding another scale for 'fill', which\n",
      "will replace the existing scale.\n",
      "Warning message:\n",
      "“Removed 19 rows containing missing values (geom_point_g_gtree).”"
     ]
    },
    {
     "data": {},
     "metadata": {},
     "output_type": "display_data"
    },
    {
     "data": {
      "text/html": [
       "<strong>png:</strong> 2"
      ],
      "text/latex": [
       "\\textbf{png:} 2"
      ],
      "text/markdown": [
       "**png:** 2"
      ],
      "text/plain": [
       "png \n",
       "  2 "
      ]
     },
     "metadata": {},
     "output_type": "display_data"
    }
   ],
   "source": [
    "options(repr.plot.height=5, repr.plot.width=15)\n",
    "pdf(\"supp_family_plots/SR1.pdf\", height=5, width=15)\n",
    "p<-plot_taxon_tree(\"SR1\", layout='rectangular', heatmap_offset=0.01, ts_scale_factor = 2, hilight_width = 0.005)\n",
    "p\n",
    "dev.off()"
   ]
  },
  {
   "cell_type": "code",
   "execution_count": 76,
   "metadata": {},
   "outputs": [
    {
     "name": "stderr",
     "output_type": "stream",
     "text": [
      "Scale for 'fill' is already present. Adding another scale for 'fill', which\n",
      "will replace the existing scale.\n",
      "Warning message:\n",
      "“Removed 37 rows containing missing values (geom_point_g_gtree).”"
     ]
    },
    {
     "data": {},
     "metadata": {},
     "output_type": "display_data"
    },
    {
     "data": {
      "text/html": [
       "<strong>png:</strong> 2"
      ],
      "text/latex": [
       "\\textbf{png:} 2"
      ],
      "text/markdown": [
       "**png:** 2"
      ],
      "text/plain": [
       "png \n",
       "  2 "
      ]
     },
     "metadata": {},
     "output_type": "display_data"
    }
   ],
   "source": [
    "options(repr.plot.height=10, repr.plot.width=15)\n",
    "pdf(\"supp_family_plots/Micrococcaceae.pdf\", height=10, width=15)\n",
    "p<-plot_taxon_tree(\"Micrococcaceae\", layout='rectangular', ts_scale_factor = 40)\n",
    "p\n",
    "dev.off()"
   ]
  },
  {
   "cell_type": "code",
   "execution_count": 77,
   "metadata": {},
   "outputs": [
    {
     "name": "stderr",
     "output_type": "stream",
     "text": [
      "Scale for 'fill' is already present. Adding another scale for 'fill', which\n",
      "will replace the existing scale.\n",
      "Warning message:\n",
      "“Removed 54 rows containing missing values (geom_point_g_gtree).”"
     ]
    },
    {
     "data": {},
     "metadata": {},
     "output_type": "display_data"
    },
    {
     "data": {
      "text/html": [
       "<strong>png:</strong> 2"
      ],
      "text/latex": [
       "\\textbf{png:} 2"
      ],
      "text/markdown": [
       "**png:** 2"
      ],
      "text/plain": [
       "png \n",
       "  2 "
      ]
     },
     "metadata": {},
     "output_type": "display_data"
    }
   ],
   "source": [
    "options(repr.plot.height=10, repr.plot.width=15)\n",
    "pdf(\"supp_family_plots/Cardiobacteriaceae.pdf\", height=10, width=15)\n",
    "p<-plot_taxon_tree(\"Cardiobacteriaceae\", layout='rectangular', ts_scale_factor = 1)\n",
    "p\n",
    "dev.off()"
   ]
  },
  {
   "cell_type": "code",
   "execution_count": 78,
   "metadata": {},
   "outputs": [
    {
     "name": "stderr",
     "output_type": "stream",
     "text": [
      "Scale for 'fill' is already present. Adding another scale for 'fill', which\n",
      "will replace the existing scale.\n",
      "Warning message:\n",
      "“Removed 31 rows containing missing values (geom_point_g_gtree).”"
     ]
    },
    {
     "data": {},
     "metadata": {},
     "output_type": "display_data"
    },
    {
     "data": {
      "text/html": [
       "<strong>png:</strong> 2"
      ],
      "text/latex": [
       "\\textbf{png:} 2"
      ],
      "text/markdown": [
       "**png:** 2"
      ],
      "text/plain": [
       "png \n",
       "  2 "
      ]
     },
     "metadata": {},
     "output_type": "display_data"
    }
   ],
   "source": [
    "options(repr.plot.height=5, repr.plot.width=15)\n",
    "pdf(\"supp_family_plots/Rickettsiales.pdf\", height=5, width=15)\n",
    "p<-plot_taxon_tree(\"Rickettsiales\", layout='rectangular', ts_scale_factor = 1, hilight_width = 2, heatmap_offset = 4)\n",
    "p\n",
    "dev.off()"
   ]
  },
  {
   "cell_type": "code",
   "execution_count": 79,
   "metadata": {},
   "outputs": [
    {
     "data": {
      "text/plain": [
       "R version 3.4.3 (2017-11-30)\n",
       "Platform: x86_64-pc-linux-gnu (64-bit)\n",
       "Running under: Ubuntu 18.04.1 LTS\n",
       "\n",
       "Matrix products: default\n",
       "BLAS: /usr/lib/x86_64-linux-gnu/blas/libblas.so.3.7.1\n",
       "LAPACK: /usr/lib/x86_64-linux-gnu/lapack/liblapack.so.3.7.1\n",
       "\n",
       "locale:\n",
       " [1] LC_CTYPE=en_CA.UTF-8       LC_NUMERIC=C              \n",
       " [3] LC_TIME=en_CA.UTF-8        LC_COLLATE=en_CA.UTF-8    \n",
       " [5] LC_MONETARY=en_CA.UTF-8    LC_MESSAGES=en_CA.UTF-8   \n",
       " [7] LC_PAPER=en_CA.UTF-8       LC_NAME=C                 \n",
       " [9] LC_ADDRESS=C               LC_TELEPHONE=C            \n",
       "[11] LC_MEASUREMENT=en_CA.UTF-8 LC_IDENTIFICATION=C       \n",
       "\n",
       "attached base packages:\n",
       "[1] stats     graphics  grDevices utils     datasets  methods   base     \n",
       "\n",
       "other attached packages:\n",
       " [1] bindrcpp_0.2.2      stringr_1.3.1       gridExtra_2.3      \n",
       " [4] lmerTest_3.0-1      lme4_1.1-18-1       Matrix_1.2-8       \n",
       " [7] reshape2_1.4.3      cowplot_0.9.3       ggplot2_3.1.0      \n",
       "[10] compositions_1.40-2 bayesm_3.1-0.1      energy_1.7-5       \n",
       "[13] robustbase_0.93-3   tensorA_0.36.1      ape_5.2            \n",
       "[16] ggtree_1.12.7      \n",
       "\n",
       "loaded via a namespace (and not attached):\n",
       " [1] pbdZMQ_0.3-3         treeio_1.4.3         tidyselect_0.2.5    \n",
       " [4] repr_0.15.0          purrr_0.2.5          splines_3.4.3       \n",
       " [7] lattice_0.20-34      colorspace_1.3-2     htmltools_0.3.6     \n",
       "[10] base64enc_0.1-3      rlang_0.3.0.1        nloptr_1.2.1        \n",
       "[13] pillar_1.3.0         glue_1.3.0           withr_2.1.2         \n",
       "[16] RColorBrewer_1.1-2   uuid_0.1-2           rvcheck_0.1.1       \n",
       "[19] bindr_0.1.1          plyr_1.8.4           munsell_0.5.0       \n",
       "[22] gtable_0.2.0         evaluate_0.12        labeling_0.3        \n",
       "[25] parallel_3.4.3       DEoptimR_1.0-8       IRdisplay_0.6       \n",
       "[28] Rcpp_0.12.19         scales_1.0.0         IRkernel_0.8.12.9000\n",
       "[31] jsonlite_1.5         digest_0.6.18        stringi_1.2.4       \n",
       "[34] dplyr_0.7.7          numDeriv_2016.8-1    grid_3.4.3          \n",
       "[37] tools_3.4.3          magrittr_1.5         lazyeval_0.2.1      \n",
       "[40] tibble_1.4.2         crayon_1.3.4         tidyr_0.8.2         \n",
       "[43] pkgconfig_2.0.2      MASS_7.3-45          tidytree_0.1.9      \n",
       "[46] minqa_1.2.4          assertthat_0.2.0     R6_2.3.0            \n",
       "[49] boot_1.3-18          nlme_3.1-131         compiler_3.4.3      "
      ]
     },
     "metadata": {},
     "output_type": "display_data"
    }
   ],
   "source": [
    "sessionInfo()"
   ]
  },
  {
   "cell_type": "code",
   "execution_count": null,
   "metadata": {},
   "outputs": [],
   "source": []
  }
 ],
 "metadata": {
  "kernelspec": {
   "display_name": "R",
   "language": "R",
   "name": "ir"
  },
  "language_info": {
   "codemirror_mode": "r",
   "file_extension": ".r",
   "mimetype": "text/x-r-source",
   "name": "R",
   "pygments_lexer": "r",
   "version": "3.4.3"
  }
 },
 "nbformat": 4,
 "nbformat_minor": 2
}
