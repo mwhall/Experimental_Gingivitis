{
 "cells": [
  {
   "cell_type": "code",
   "execution_count": 1,
   "metadata": {},
   "outputs": [
    {
     "name": "stderr",
     "output_type": "stream",
     "text": [
      "Loading required package: tensorA\n",
      "\n",
      "Attaching package: ‘tensorA’\n",
      "\n",
      "The following object is masked from ‘package:base’:\n",
      "\n",
      "    norm\n",
      "\n",
      "Loading required package: robustbase\n",
      "Loading required package: energy\n",
      "Loading required package: bayesm\n",
      "Welcome to compositions, a package for compositional data analysis.\n",
      "Find an intro with \"? compositions\"\n",
      "\n",
      "\n",
      "Attaching package: ‘compositions’\n",
      "\n",
      "The following objects are masked from ‘package:stats’:\n",
      "\n",
      "    cor, cov, dist, var\n",
      "\n",
      "The following objects are masked from ‘package:base’:\n",
      "\n",
      "    %*%, scale, scale.default\n",
      "\n",
      "Loading required package: ggplot2\n",
      "\n",
      "Attaching package: ‘cowplot’\n",
      "\n",
      "The following object is masked from ‘package:ggplot2’:\n",
      "\n",
      "    ggsave\n",
      "\n",
      "Loading required package: Matrix\n",
      "\n",
      "Attaching package: ‘lmerTest’\n",
      "\n",
      "The following object is masked from ‘package:lme4’:\n",
      "\n",
      "    lmer\n",
      "\n",
      "The following object is masked from ‘package:robustbase’:\n",
      "\n",
      "    carrots\n",
      "\n",
      "The following object is masked from ‘package:stats’:\n",
      "\n",
      "    step\n",
      "\n"
     ]
    }
   ],
   "source": [
    "library(compositions)\n",
    "library(cowplot)\n",
    "library(ggplot2)\n",
    "library(reshape2)\n",
    "library(stringr)\n",
    "library(lme4)\n",
    "library(lmerTest)"
   ]
  },
  {
   "cell_type": "code",
   "execution_count": 2,
   "metadata": {},
   "outputs": [],
   "source": [
    "#Load in Data\n",
    "asv_tab <- read.table(\"data/asv_table.tsv\", sep=\"\\t\", comment.char=\"\", skip=1, header=1, row.names=1)\n",
    "md <- read.table(\"data/METADATA.txt\", sep=\"\\t\", header=1, row.names=1)\n",
    "rownames(md) <- gsub(\"-\",\".\",rownames(md))\n",
    "taxonomy <- read.table(\"data/taxonomy.tsv\", sep=\"\\t\", header=1, row.names=1)\n",
    "\n",
    "#Transform data\n",
    "asv_tab.clr <- t(as.data.frame(clr(t(asv_tab))))\n",
    "rownames(asv_tab.clr) <- rownames(asv_tab)\n",
    "asv_tab.clr.m <- melt(asv_tab.clr)\n",
    "colnames(asv_tab.clr.m) <- c(\"asv_id\",\"sample_id\",\"clr_rel_abund\")\n",
    "#Merge taxonomic classifications\n",
    "asv_tab.clr.m$full_taxonomy <- taxonomy[as.vector(asv_tab.clr.m$asv_id), 'Taxon']\n",
    "asv_tab.clr.m$genus <- str_extract(asv_tab.clr.m$full_taxonomy\n",
    "                                   ,\".*; s__\")\n",
    "asv_tab.clr.m$genus <- str_replace(asv_tab.clr.m$genus,\n",
    "                                  \"; s__\", \"\")\n",
    "asv_tab.clr.m$family <- str_extract(asv_tab.clr.m$full_taxonomy\n",
    "                                   ,\".*; g__\")\n",
    "asv_tab.clr.m$fmily <- str_replace(asv_tab.clr.m$family,\n",
    "                                  \"; g__\", \"\")\n",
    "asv_tab.clr.m$phylum <- str_extract(asv_tab.clr.m$full_taxonomy\n",
    "                                   ,\".*; c__\")\n",
    "asv_tab.clr.m$phylum <- str_replace(asv_tab.clr.m$phylum,\n",
    "                                  \"; c__\", \"\")\n"
   ]
  },
  {
   "cell_type": "code",
   "execution_count": 3,
   "metadata": {},
   "outputs": [],
   "source": [
    "aggregate_by_level <- function(tax_level) { # level: asv_id, full_taxonomy, genus, family, phylum\n",
    "    asv_tab.clr.agg <- aggregate(asv_tab.clr.m$clr_rel_abund, \n",
    "                                 by=list(asv_tab.clr.m$sample_id,\n",
    "                                         asv_tab.clr.m[,tax_level]), \n",
    "                                 FUN=sum)\n",
    "    colnames(asv_tab.clr.agg) <- c(\"sample_id\",tax_level,\"clr_rel_abund\")\n",
    "    asv_tab.clr.agg$phase <- md[as.vector(asv_tab.clr.agg$sample_id),'phase']\n",
    "    asv_tab.clr.agg$time <- md[as.vector(asv_tab.clr.agg$sample_id),'timePoint']\n",
    "    asv_tab.clr.agg$type <- md[as.vector(asv_tab.clr.agg$sample_id),'sampleType']\n",
    "    asv_tab.clr.agg$subject <- md[as.vector(asv_tab.clr.agg$sample_id),'subject']\n",
    "    levels(asv_tab.clr.agg$time)[levels(asv_tab.clr.agg$time) == \"B\"] <- \"-7\"\n",
    "    asv_tab.clr.agg$time <- factor(asv_tab.clr.agg$time, levels=c(\"-7\",\"0\",\"7\",\"14\",\"21\",\"28\",\"35\"))\n",
    "    asv_tab.clr.agg\n",
    "}"
   ]
  },
  {
   "cell_type": "code",
   "execution_count": 4,
   "metadata": {},
   "outputs": [],
   "source": [
    "run_GLMs <- function(agg_tab, tax_level) {\n",
    "    results <- data.frame(row.names = unique(agg_tab[,tax_level]))\n",
    "    results$SubG_GLM_p <- NA\n",
    "    results$SupG_GLM_p <- NA\n",
    "    results$Sal_GLM_p <- NA\n",
    "    results$T_GLM_p <- NA\n",
    "    i<-1\n",
    "    for (tax_str in unique(agg_tab[,tax_level])) {\n",
    "        for (sample_type in c(\"SubG\", \"SupG\", \"Sal\", \"T\")) {\n",
    "            data_subset <-agg_tab[agg_tab[,tax_level]==tax_str,]\n",
    "            data_subset <- subset(data_subset,phase=='induction')\n",
    "            data_subset <- subset(data_subset,type==sample_type)\n",
    "            data_subset$time <- as.numeric(as.character(data_subset$time))\n",
    "            options(warn=-1)\n",
    "            p.val <- tryCatch({\n",
    "                # **** THIS IS THE MODEL IF YOU\"RE LOOKING FOR IT ****\n",
    "                fit1 <- lmer(clr_rel_abund~time+(1|subject), data=data_subset)\n",
    "                p.val <- anova(fit1, type=1)['time',\"Pr(>F)\"]\n",
    "                p.val}, \n",
    "                error = function(e) {p.val <- NA}, \n",
    "                finally = function(e) p.val,\n",
    "                silent=TRUE)\n",
    "            options(warn=0)\n",
    "            results[tax_str, paste(sample_type, \"_GLM_p\", sep=\"\")] <- p.val\n",
    "        }\n",
    "    }\n",
    "    results[,\"SubG_GLM_p_adj\"] <- p.adjust(results[,\"SubG_GLM_p\"], method = \"fdr\")\n",
    "    results[,\"SupG_GLM_p_adj\"] <- p.adjust(results[,\"SupG_GLM_p\"], method = \"fdr\")\n",
    "    results[,\"Sal_GLM_p_adj\"] <- p.adjust(results[,\"Sal_GLM_p\"], method = \"fdr\")\n",
    "    results[,\"T_GLM_p_adj\"] <- p.adjust(results[,\"T_GLM_p\"], method = \"fdr\")\n",
    "    results\n",
    "}"
   ]
  },
  {
   "cell_type": "code",
   "execution_count": 5,
   "metadata": {},
   "outputs": [],
   "source": [
    "len_wrapper <- function(x, ...) \n",
    "{\n",
    "  paste(strwrap(x, ...), collapse = \"\\n\")\n",
    "}\n",
    "cut_taxonomy_string <- function(x, n) {\n",
    "    y<-str_split(str_trim(str_flatten(str_split_fixed(str_replace_all(x,\"[kpcofgs]__\", \"\"), \";\", n=7))), \" \")[[1]]\n",
    "    if (n >= length(y)) {\n",
    "        n = length(y)\n",
    "    }\n",
    "    if (n==7) {\n",
    "        str_flatten(y[c(n-1, n)], collapse = \" \")\n",
    "    } else {\n",
    "        y[n]\n",
    "    }\n",
    "}\n",
    "plot_significant_results <- function(agg_tab, p_vals, tax_level) {\n",
    "    plot_list = list()\n",
    "    i=1\n",
    "    for (tax_str in rownames(p_vals)) {\n",
    "        for (sample_type in c(\"SubG\", \"SupG\", \"Sal\", \"T\")) {\n",
    "            p.val <- p_vals[tax_str,paste(sample_type,\"_GLM_p_adj\",sep=\"\")]\n",
    "            if ((!is.na(p.val)) && (p.val <= 0.05)) {\n",
    "               plot_subset <- agg_tab[agg_tab[,tax_level]==tax_str,]\n",
    "               plot_subset <- subset(plot_subset, type==sample_type)\n",
    "               p <- ggplot(plot_subset,\n",
    "                     aes(x=time,y=clr_rel_abund,group=type,shape=type,col=phase)) +\n",
    "                     scale_shape_manual(drop=FALSE, values=c(0,1,5,6)) +\n",
    "                     stat_summary(fun.y=mean, geom=\"line\", aes(group=interaction(1,type)))  + \n",
    "                     stat_summary(fun.y=mean, geom=\"point\", size=4, alpha=0.7) +\n",
    "                     stat_summary(fun.data = mean_se, geom = \"errorbar\", width=0.1) +\n",
    "                     scale_colour_brewer(palette = \"Dark2\") +\n",
    "                     ggtitle(len_wrapper(cut_taxonomy_string(tax_str,7), 15)) + xlab(\"\") + ylab(\"\") +\n",
    "                     theme(legend.position=\"none\", \n",
    "                           axis.title.y=element_text(size=10),\n",
    "                           axis.title.x=element_text(size=10),\n",
    "                           plot.title=element_text(size=10))+\n",
    "                     annotate(\"text\",label=paste(\"Adj. p=\", round(p.val,3), sep=\"\"),\n",
    "                              x=-Inf,y=Inf,hjust=-0.1, vjust=1.2, size=3)\n",
    "               plot_list[[i]] <- p\n",
    "               i<-i+1\n",
    "            }\n",
    "        }\n",
    "    }\n",
    "    p.legend <- get_legend(plot_list[[1]] + \n",
    "                       theme(legend.position=\"bottom\") + \n",
    "                       guides(shape = guide_legend(nrow = 1, title.position=\"top\", title=\"Site\"), \n",
    "                              col = guide_legend(nrow = 1, title.position=\"top\", title=\"Phase\")))\n",
    "    plot_grid(\n",
    "        plot_grid(plotlist=plot_list, ncol = 4),\n",
    "        p.legend,\n",
    "        nrow=2,\n",
    "        rel_heights=c(1,0.3))\n",
    "}"
   ]
  },
  {
   "cell_type": "code",
   "execution_count": 15,
   "metadata": {},
   "outputs": [],
   "source": [
    "agg_tab <- aggregate_by_level(\"phylum\")\n",
    "p_vals <- run_GLMs(agg_tab, \"phylum\")"
   ]
  },
  {
   "cell_type": "code",
   "execution_count": 16,
   "metadata": {},
   "outputs": [
    {
     "data": {},
     "metadata": {},
     "output_type": "display_data"
    },
    {
     "data": {
      "text/html": [
       "<strong>png:</strong> 2"
      ],
      "text/latex": [
       "\\textbf{png:} 2"
      ],
      "text/markdown": [
       "**png:** 2"
      ],
      "text/plain": [
       "png \n",
       "  2 "
      ]
     },
     "metadata": {},
     "output_type": "display_data"
    }
   ],
   "source": [
    "options(repr.plot.width=10, repr.plot.height=2.5)\n",
    "pdf(\"figures/Phylum_Sig_GLM.pdf\", height=2.5, width=10)\n",
    "plot_significant_results(agg_tab, p_vals, \"phylum\")\n",
    "dev.off()"
   ]
  },
  {
   "cell_type": "code",
   "execution_count": 17,
   "metadata": {},
   "outputs": [],
   "source": [
    "agg_tab <- aggregate_by_level(\"family\")\n",
    "p_vals <- run_GLMs(agg_tab, \"family\")"
   ]
  },
  {
   "cell_type": "code",
   "execution_count": 18,
   "metadata": {},
   "outputs": [
    {
     "data": {},
     "metadata": {},
     "output_type": "display_data"
    },
    {
     "data": {
      "text/html": [
       "<strong>png:</strong> 2"
      ],
      "text/latex": [
       "\\textbf{png:} 2"
      ],
      "text/markdown": [
       "**png:** 2"
      ],
      "text/plain": [
       "png \n",
       "  2 "
      ]
     },
     "metadata": {},
     "output_type": "display_data"
    }
   ],
   "source": [
    "options(repr.plot.width=10, repr.plot.height=9)\n",
    "pdf(\"figures/Family_Sig_GLM.pdf\", height=9, width=10)\n",
    "plot_significant_results(agg_tab, p_vals, \"family\")\n",
    "dev.off()"
   ]
  },
  {
   "cell_type": "code",
   "execution_count": 20,
   "metadata": {},
   "outputs": [],
   "source": [
    "agg_tab <- aggregate_by_level(\"genus\")\n",
    "p_vals <- run_GLMs(agg_tab, \"genus\")"
   ]
  },
  {
   "cell_type": "code",
   "execution_count": 21,
   "metadata": {},
   "outputs": [
    {
     "data": {},
     "metadata": {},
     "output_type": "display_data"
    },
    {
     "data": {
      "text/html": [
       "<strong>png:</strong> 2"
      ],
      "text/latex": [
       "\\textbf{png:} 2"
      ],
      "text/markdown": [
       "**png:** 2"
      ],
      "text/plain": [
       "png \n",
       "  2 "
      ]
     },
     "metadata": {},
     "output_type": "display_data"
    }
   ],
   "source": [
    "options(repr.plot.width=10, repr.plot.height=9)\n",
    "pdf(\"figures/Genus_Sig_GLM.pdf\", width=10, height=9)\n",
    "plot_significant_results(agg_tab, p_vals, \"genus\")\n",
    "dev.off()"
   ]
  },
  {
   "cell_type": "code",
   "execution_count": 22,
   "metadata": {},
   "outputs": [],
   "source": [
    "agg_tab <- aggregate_by_level(\"full_taxonomy\")\n",
    "p_vals <- run_GLMs(agg_tab, \"full_taxonomy\")"
   ]
  },
  {
   "cell_type": "code",
   "execution_count": 23,
   "metadata": {},
   "outputs": [
    {
     "data": {},
     "metadata": {},
     "output_type": "display_data"
    },
    {
     "data": {
      "text/html": [
       "<strong>png:</strong> 2"
      ],
      "text/latex": [
       "\\textbf{png:} 2"
      ],
      "text/markdown": [
       "**png:** 2"
      ],
      "text/plain": [
       "png \n",
       "  2 "
      ]
     },
     "metadata": {},
     "output_type": "display_data"
    }
   ],
   "source": [
    "options(repr.plot.width=10, repr.plot.height=10)\n",
    "pdf(\"figures/Full_Tax_Sig_GLM.pdf\", width=10, height=10)\n",
    "plot_significant_results(agg_tab, p_vals, \"full_taxonomy\")\n",
    "dev.off()"
   ]
  },
  {
   "cell_type": "code",
   "execution_count": 26,
   "metadata": {},
   "outputs": [
    {
     "data": {
      "text/plain": [
       "R version 3.4.3 (2017-11-30)\n",
       "Platform: x86_64-pc-linux-gnu (64-bit)\n",
       "Running under: Ubuntu 18.04.1 LTS\n",
       "\n",
       "Matrix products: default\n",
       "BLAS: /usr/lib/x86_64-linux-gnu/blas/libblas.so.3.7.1\n",
       "LAPACK: /usr/lib/x86_64-linux-gnu/lapack/liblapack.so.3.7.1\n",
       "\n",
       "locale:\n",
       " [1] LC_CTYPE=en_CA.UTF-8       LC_NUMERIC=C              \n",
       " [3] LC_TIME=en_CA.UTF-8        LC_COLLATE=en_CA.UTF-8    \n",
       " [5] LC_MONETARY=en_CA.UTF-8    LC_MESSAGES=en_CA.UTF-8   \n",
       " [7] LC_PAPER=en_CA.UTF-8       LC_NAME=C                 \n",
       " [9] LC_ADDRESS=C               LC_TELEPHONE=C            \n",
       "[11] LC_MEASUREMENT=en_CA.UTF-8 LC_IDENTIFICATION=C       \n",
       "\n",
       "attached base packages:\n",
       "[1] stats     graphics  grDevices utils     datasets  methods   base     \n",
       "\n",
       "other attached packages:\n",
       " [1] ggtree_1.12.7       lmerTest_3.0-1      lme4_1.1-18-1      \n",
       " [4] Matrix_1.2-8        stringr_1.3.1       reshape2_1.4.3     \n",
       " [7] cowplot_0.9.3       ggplot2_3.1.0       compositions_1.40-2\n",
       "[10] bayesm_3.1-0.1      energy_1.7-5        robustbase_0.93-3  \n",
       "[13] tensorA_0.36.1     \n",
       "\n",
       "loaded via a namespace (and not attached):\n",
       " [1] treeio_1.4.3         pbdZMQ_0.3-3         tidyselect_0.2.5    \n",
       " [4] repr_0.15.0          purrr_0.2.5          splines_3.4.3       \n",
       " [7] lattice_0.20-34      colorspace_1.3-2     htmltools_0.3.6     \n",
       "[10] base64enc_0.1-3      rlang_0.3.0.1        pillar_1.3.0        \n",
       "[13] nloptr_1.2.1         glue_1.3.0           withr_2.1.2         \n",
       "[16] RColorBrewer_1.1-2   bindrcpp_0.2.2       uuid_0.1-2          \n",
       "[19] rvcheck_0.1.1        bindr_0.1.1          plyr_1.8.4          \n",
       "[22] munsell_0.5.0        gtable_0.2.0         evaluate_0.12       \n",
       "[25] labeling_0.3         parallel_3.4.3       DEoptimR_1.0-8      \n",
       "[28] IRdisplay_0.6        Rcpp_0.12.19         scales_1.0.0        \n",
       "[31] IRkernel_0.8.12.9000 jsonlite_1.5         digest_0.6.18       \n",
       "[34] stringi_1.2.4        dplyr_0.7.7          numDeriv_2016.8-1   \n",
       "[37] grid_3.4.3           tools_3.4.3          magrittr_1.5        \n",
       "[40] lazyeval_0.2.1       tibble_1.4.2         tidyr_0.8.2         \n",
       "[43] ape_5.2              crayon_1.3.4         pkgconfig_2.0.2     \n",
       "[46] tidytree_0.1.9       MASS_7.3-45          assertthat_0.2.0    \n",
       "[49] minqa_1.2.4          R6_2.3.0             boot_1.3-18         \n",
       "[52] nlme_3.1-131         compiler_3.4.3      "
      ]
     },
     "metadata": {},
     "output_type": "display_data"
    }
   ],
   "source": [
    "sessionInfo()"
   ]
  },
  {
   "cell_type": "code",
   "execution_count": null,
   "metadata": {},
   "outputs": [],
   "source": []
  }
 ],
 "metadata": {
  "kernelspec": {
   "display_name": "R",
   "language": "R",
   "name": "ir"
  },
  "language_info": {
   "codemirror_mode": "r",
   "file_extension": ".r",
   "mimetype": "text/x-r-source",
   "name": "R",
   "pygments_lexer": "r",
   "version": "3.4.3"
  }
 },
 "nbformat": 4,
 "nbformat_minor": 2
}
